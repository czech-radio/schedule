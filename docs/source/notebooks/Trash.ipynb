{
 "cells": [
  {
   "cell_type": "markdown",
   "metadata": {},
   "source": [
    "# Examples"
   ]
  },
  {
   "cell_type": "code",
   "execution_count": null,
   "metadata": {},
   "outputs": [],
   "source": [
    "%load_ext autoreload\n",
    "%autoreload 2"
   ]
  },
  {
   "cell_type": "code",
   "execution_count": null,
   "metadata": {},
   "outputs": [],
   "source": [
    "import datetime as dt\n",
    "\n",
    "import pandas as pd\n",
    "\n",
    "from cro.schedule import Client, Schedule"
   ]
  },
  {
   "cell_type": "code",
   "execution_count": null,
   "metadata": {},
   "outputs": [],
   "source": [
    "client = Client()  # Set the station id (sid) later."
   ]
  },
  {
   "cell_type": "code",
   "execution_count": null,
   "metadata": {},
   "outputs": [],
   "source": [
    "date: str = \"2022-03-14\"\n",
    "\n",
    "data: list[Schedule] = []\n",
    "for sid in (\"plus\", \"radiozurnal\"):\n",
    "    client.station = sid\n",
    "    schedules = client.get_week_schedule(date)\n",
    "\n",
    "    for schedule in schedules:\n",
    "        # print(schedule.date, schedule.station.name, len(schedule.shows))\n",
    "        data.append(schedule.to_table())\n",
    "        # Write single dataset to Excel.\n",
    "        with pd.ExcelWriter(\n",
    "            f\"../data/sheet/Schedule_{schedule.station.name}_W{schedule.date}.xlsx\"\n",
    "        ) as writer:\n",
    "            data[-1].to_excel(writer)\n",
    "\n",
    "# Write concatenated datasets to Excel.\n",
    "with pd.ExcelWriter(f\"../data/sheet/Schedule_W{date}.xlsx\") as writer:\n",
    "    pd.concat(data).to_excel(writer)"
   ]
  },
  {
   "cell_type": "markdown",
   "metadata": {},
   "source": [
    "## __Get the schedule for current day and given station__"
   ]
  },
  {
   "cell_type": "code",
   "execution_count": null,
   "metadata": {},
   "outputs": [],
   "source": [
    "client.station = \"plus\"\n",
    "schedule = client.get_day_schedule()\n",
    "\n",
    "# for show in schedule.shows[0:3]: print(show)"
   ]
  },
  {
   "cell_type": "code",
   "execution_count": null,
   "metadata": {},
   "outputs": [],
   "source": [
    "# Get shows in specified time range.\n",
    "shows = schedule.shows_between(\"08:00:00\", \"09:00:00\")\n",
    "\n",
    "shows[0].since.time().isoformat()"
   ]
  },
  {
   "cell_type": "code",
   "execution_count": null,
   "metadata": {},
   "outputs": [],
   "source": [
    "df = schedule.to_table()\n",
    "\n",
    "# with open(\"Schedule.html\", \"w\") as file:\n",
    "#     file.write(df.to_html())\n",
    "\n",
    "# with pd.ExcelWriter(\"Schedule.xlsx\") as writer:\n",
    "#     df.to_excel(writer)\n",
    "\n",
    "df.head(5)"
   ]
  },
  {
   "cell_type": "markdown",
   "metadata": {},
   "source": [
    "# Use cases\n",
    "\n",
    "## __Get schedule for given day and given station__"
   ]
  },
  {
   "cell_type": "code",
   "execution_count": null,
   "metadata": {},
   "outputs": [],
   "source": [
    "schedule: Schedule = client.get_day_schedule(date=dt.date(2022, 1, 31))\n",
    "\n",
    "print(schedule)"
   ]
  },
  {
   "cell_type": "markdown",
   "metadata": {},
   "source": [
    "## __Get schedule for a given week and given station__"
   ]
  },
  {
   "cell_type": "code",
   "execution_count": null,
   "metadata": {},
   "outputs": [],
   "source": [
    "schedules: tuple[Schedule] = client.get_week_schedule(dt.date(2022, 1, 31))\n",
    "\n",
    "print(schedules[0])\n",
    "print(schedules[-1])"
   ]
  },
  {
   "cell_type": "markdown",
   "metadata": {},
   "source": [
    "## __Get schedule for a given month and given station__"
   ]
  },
  {
   "cell_type": "code",
   "execution_count": null,
   "metadata": {},
   "outputs": [],
   "source": [
    "schedules = client.get_month_schedule(\n",
    "    date=dt.date(2022, 1, 1), time=(dt.time.min, dt.time(3, 0, 0))\n",
    ")\n",
    "\n",
    "print(schedules[0])\n",
    "print(schedules[-1])"
   ]
  },
  {
   "cell_type": "code",
   "execution_count": null,
   "metadata": {},
   "outputs": [],
   "source": [
    "for schedule in schedules[:3]:\n",
    "    print(schedule)"
   ]
  },
  {
   "cell_type": "markdown",
   "metadata": {},
   "source": []
  }
 ],
 "metadata": {
  "interpreter": {
   "hash": "8e4236b61e4a3b08ae53654359cc9eb3acbffc1cd2cfa626a3e05fdc8be0cc9c"
  },
  "kernelspec": {
   "display_name": "Python 3.10.0 64-bit ('.venv': venv)",
   "name": "python3"
  },
  "language_info": {
   "codemirror_mode": {
    "name": "ipython",
    "version": 3
   },
   "file_extension": ".py",
   "mimetype": "text/x-python",
   "name": "python",
   "nbconvert_exporter": "python",
   "pygments_lexer": "ipython3",
   "version": "3.10.0"
  },
  "orig_nbformat": 4
 },
 "nbformat": 4,
 "nbformat_minor": 2
}
