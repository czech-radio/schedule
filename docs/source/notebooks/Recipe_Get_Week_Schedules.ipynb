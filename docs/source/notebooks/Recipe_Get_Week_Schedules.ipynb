{
 "cells": [
  {
   "cell_type": "markdown",
   "metadata": {},
   "source": [
    "# Recipe: Get schedules for a given week and given station\n",
    "\n",
    "## Problem \n",
    "\n",
    "You want to get a schedules for a given week and given station.\n",
    "\n",
    "## Solution\n",
    "\n",
    "The schedule is defined for a specified day. If we want to get schedules for a whole week\n",
    "we end up with a seven schedules. \n",
    "\n",
    "There si a methods `Schedule::get_week_schedule(date)` wich returns a\n",
    "collection of schedules for the given week of specified date."
   ]
  },
  {
   "cell_type": "code",
   "execution_count": 12,
   "metadata": {},
   "outputs": [],
   "source": [
    "import pandas as pd\n",
    "import datetime as dt\n",
    "from cro.schedule import Client"
   ]
  },
  {
   "cell_type": "markdown",
   "metadata": {},
   "source": [
    "Create the client instance with specified station ID."
   ]
  },
  {
   "cell_type": "code",
   "execution_count": 13,
   "metadata": {},
   "outputs": [],
   "source": [
    "client = Client(sid=\"plus\")"
   ]
  },
  {
   "cell_type": "markdown",
   "metadata": {},
   "source": [
    "Get week schedules -- one for the each day of the week. "
   ]
  },
  {
   "cell_type": "code",
   "execution_count": 14,
   "metadata": {},
   "outputs": [],
   "source": [
    "week_date = \"2022-01-01\"  # You can pick any date of the week.\n",
    "\n",
    "schedules = client.get_week_schedule(date=week_date)"
   ]
  },
  {
   "cell_type": "markdown",
   "metadata": {},
   "source": [
    "See the results."
   ]
  },
  {
   "cell_type": "code",
   "execution_count": 15,
   "metadata": {},
   "outputs": [
    {
     "name": "stdout",
     "output_type": "stream",
     "text": [
      "Fetched 7 schedules for dates ['2021-12-27', '2021-12-28', '2021-12-29', '2021-12-30', '2021-12-31', '2022-01-01', '2022-01-02'].\n"
     ]
    }
   ],
   "source": [
    "print(\n",
    "    f\"Fetched {len(schedules)} schedules for dates {[schedule.date.isoformat() for schedule in schedules]}.\"\n",
    ")"
   ]
  },
  {
   "cell_type": "markdown",
   "metadata": {},
   "source": [
    "You can convert each  schedule do `pandas.DataFrame` and write the result for a whole week to the Excel."
   ]
  },
  {
   "cell_type": "code",
   "execution_count": 16,
   "metadata": {},
   "outputs": [],
   "source": [
    "schedule_dfs = [schedule.to_table() for schedule in schedules]\n",
    "\n",
    "with pd.ExcelWriter(f\"../../../data/sheet/Schedule_W{week_date}.xlsx\") as writer:\n",
    "    pd.concat(schedule_dfs).to_excel(writer)"
   ]
  }
 ],
 "metadata": {
  "interpreter": {
   "hash": "8e4236b61e4a3b08ae53654359cc9eb3acbffc1cd2cfa626a3e05fdc8be0cc9c"
  },
  "kernelspec": {
   "display_name": "Python 3.10.0 64-bit ('.venv': venv)",
   "name": "python3"
  },
  "language_info": {
   "codemirror_mode": {
    "name": "ipython",
    "version": 3
   },
   "file_extension": ".py",
   "mimetype": "text/x-python",
   "name": "python",
   "nbconvert_exporter": "python",
   "pygments_lexer": "ipython3",
   "version": "3.10.0"
  },
  "orig_nbformat": 4
 },
 "nbformat": 4,
 "nbformat_minor": 2
}
