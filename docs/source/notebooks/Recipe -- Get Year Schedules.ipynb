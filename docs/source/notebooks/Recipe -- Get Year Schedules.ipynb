{
 "cells": [
  {
   "cell_type": "markdown",
   "metadata": {},
   "source": [
    "# Recipe: Get schedules for a whole year"
   ]
  },
  {
   "cell_type": "code",
   "execution_count": 2,
   "metadata": {},
   "outputs": [
    {
     "name": "stdout",
     "output_type": "stream",
     "text": [
      "The autoreload extension is already loaded. To reload it, use:\n",
      "  %reload_ext autoreload\n"
     ]
    }
   ],
   "source": [
    "%load_ext autoreload\n",
    "%autoreload 2"
   ]
  },
  {
   "cell_type": "code",
   "execution_count": 3,
   "metadata": {},
   "outputs": [],
   "source": [
    "import datetime as dt\n",
    "\n",
    "import pandas as pd\n",
    "\n",
    "from cro.schedule import Client, Schedule"
   ]
  },
  {
   "cell_type": "code",
   "execution_count": 4,
   "metadata": {},
   "outputs": [],
   "source": [
    "YEAR = 2022\n",
    "month_dates = [dt.date(YEAR, month, 1) for month in range(1, 3)]\n",
    "data: dict[Schedule, pd.DataFrame] = {}\n",
    "\n",
    "client = Client()  # Set the station id (sid) later."
   ]
  },
  {
   "cell_type": "code",
   "execution_count": 5,
   "metadata": {},
   "outputs": [
    {
     "name": "stdout",
     "output_type": "stream",
     "text": [
      "2022-01-01\n",
      "2022-01-02\n",
      "2022-01-03\n",
      "2022-01-04\n",
      "2022-01-05\n",
      "2022-01-06\n",
      "2022-01-07\n",
      "2022-01-08\n",
      "2022-01-09\n",
      "2022-01-10\n",
      "2022-01-11\n",
      "2022-01-12\n",
      "2022-01-13\n",
      "2022-01-14\n",
      "2022-01-15\n",
      "2022-01-16\n",
      "2022-01-17\n",
      "2022-01-18\n",
      "2022-01-19\n",
      "2022-01-20\n",
      "2022-01-21\n",
      "2022-01-22\n",
      "2022-01-23\n",
      "2022-01-24\n",
      "2022-01-25\n",
      "2022-01-26\n",
      "2022-01-27\n",
      "2022-01-28\n",
      "2022-01-29\n",
      "2022-01-30\n",
      "2022-01-31\n",
      "2022-02-01\n",
      "2022-02-02\n",
      "2022-02-03\n",
      "2022-02-04\n",
      "2022-02-05\n",
      "2022-02-06\n",
      "2022-02-07\n",
      "2022-02-08\n",
      "2022-02-09\n",
      "2022-02-10\n",
      "2022-02-11\n",
      "2022-02-12\n",
      "2022-02-13\n",
      "2022-02-14\n",
      "2022-02-15\n",
      "2022-02-16\n",
      "2022-02-17\n",
      "2022-02-18\n",
      "2022-02-19\n",
      "2022-02-20\n",
      "2022-02-21\n",
      "2022-02-22\n",
      "2022-02-23\n",
      "2022-02-24\n",
      "2022-02-25\n",
      "2022-02-26\n",
      "2022-02-27\n",
      "2022-02-28\n",
      "2022-01-01\n",
      "2022-01-02\n",
      "2022-01-03\n",
      "2022-01-04\n",
      "2022-01-05\n",
      "2022-01-06\n",
      "2022-01-07\n",
      "2022-01-08\n",
      "2022-01-09\n",
      "2022-01-10\n",
      "2022-01-11\n",
      "2022-01-12\n",
      "2022-01-13\n",
      "2022-01-14\n",
      "2022-01-15\n",
      "2022-01-16\n",
      "2022-01-17\n",
      "2022-01-18\n",
      "2022-01-19\n",
      "2022-01-20\n",
      "2022-01-21\n",
      "2022-01-22\n",
      "2022-01-23\n",
      "2022-01-24\n",
      "2022-01-25\n",
      "2022-01-26\n",
      "2022-01-27\n",
      "2022-01-28\n",
      "2022-01-29\n",
      "2022-01-30\n",
      "2022-01-31\n",
      "2022-02-01\n",
      "2022-02-02\n",
      "2022-02-03\n",
      "2022-02-04\n",
      "2022-02-05\n",
      "2022-02-06\n",
      "2022-02-07\n",
      "2022-02-08\n",
      "2022-02-09\n",
      "2022-02-10\n",
      "2022-02-11\n",
      "2022-02-12\n",
      "2022-02-13\n",
      "2022-02-14\n",
      "2022-02-15\n",
      "2022-02-16\n",
      "2022-02-17\n",
      "2022-02-18\n",
      "2022-02-19\n",
      "2022-02-20\n",
      "2022-02-21\n",
      "2022-02-22\n",
      "2022-02-23\n",
      "2022-02-24\n",
      "2022-02-25\n",
      "2022-02-26\n",
      "2022-02-27\n",
      "2022-02-28\n"
     ]
    }
   ],
   "source": [
    "for sid in (\"plus\", \"radiozurnal\"):\n",
    "    client.station = sid\n",
    "    for date in month_dates:\n",
    "        schedules = client.get_month_schedule(date)\n",
    "        for schedule in schedules:\n",
    "            print(schedule.date)\n",
    "            data[schedule] = schedule.to_table()"
   ]
  },
  {
   "cell_type": "code",
   "execution_count": 6,
   "metadata": {},
   "outputs": [
    {
     "ename": "NameError",
     "evalue": "name 'year' is not defined",
     "output_type": "error",
     "traceback": [
      "\u001b[1;31m---------------------------------------------------------------------------\u001b[0m",
      "\u001b[1;31mNameError\u001b[0m                                 Traceback (most recent call last)",
      "Input \u001b[1;32mIn [6]\u001b[0m, in \u001b[0;36m<cell line: 2>\u001b[1;34m()\u001b[0m\n\u001b[0;32m      5\u001b[0m week_start \u001b[38;5;241m=\u001b[39m schedule\u001b[38;5;241m.\u001b[39mdate \u001b[38;5;241m-\u001b[39m dt\u001b[38;5;241m.\u001b[39mtimedelta(days\u001b[38;5;241m=\u001b[39mschedule\u001b[38;5;241m.\u001b[39mdate\u001b[38;5;241m.\u001b[39mweekday())  \u001b[38;5;66;03m# Monday\u001b[39;00m\n\u001b[0;32m      6\u001b[0m week_end \u001b[38;5;241m=\u001b[39m week_start \u001b[38;5;241m+\u001b[39m dt\u001b[38;5;241m.\u001b[39mtimedelta(days\u001b[38;5;241m=\u001b[39m\u001b[38;5;241m6\u001b[39m)  \u001b[38;5;66;03m# Sunday\u001b[39;00m\n\u001b[0;32m      8\u001b[0m \u001b[38;5;28;01mwith\u001b[39;00m pd\u001b[38;5;241m.\u001b[39mExcelWriter(\n\u001b[1;32m----> 9\u001b[0m     \u001b[38;5;124mf\u001b[39m\u001b[38;5;124m\"\u001b[39m\u001b[38;5;124m../data/sheet/\u001b[39m\u001b[38;5;132;01m{\u001b[39;00myear\u001b[38;5;132;01m}\u001b[39;00m\u001b[38;5;124m/Schedule_\u001b[39m\u001b[38;5;132;01m{\u001b[39;00mschedule\u001b[38;5;241m.\u001b[39mstation\u001b[38;5;241m.\u001b[39mname\u001b[38;5;132;01m}\u001b[39;00m\u001b[38;5;124m_\u001b[39m\u001b[38;5;132;01m{\u001b[39;00myear\u001b[38;5;132;01m}\u001b[39;00m\u001b[38;5;124mW\u001b[39m\u001b[38;5;132;01m{\u001b[39;00mweek_number\u001b[38;5;132;01m}\u001b[39;00m\u001b[38;5;124m_\u001b[39m\u001b[38;5;132;01m{\u001b[39;00mweek_start\u001b[38;5;132;01m}\u001b[39;00m\u001b[38;5;124m_\u001b[39m\u001b[38;5;132;01m{\u001b[39;00mweek_end\u001b[38;5;132;01m}\u001b[39;00m\u001b[38;5;124m.xlsx\u001b[39m\u001b[38;5;124m\"\u001b[39m\n\u001b[0;32m     10\u001b[0m ) \u001b[38;5;28;01mas\u001b[39;00m writer:\n\u001b[0;32m     11\u001b[0m     table\u001b[38;5;241m.\u001b[39mto_excel(writer, index\u001b[38;5;241m=\u001b[39m\u001b[38;5;28;01mFalse\u001b[39;00m)\n",
      "\u001b[1;31mNameError\u001b[0m: name 'year' is not defined"
     ]
    }
   ],
   "source": [
    "# Write single dataset to Excel.\n",
    "for schedule, table in data.items():\n",
    "\n",
    "    week_number = f\"{schedule.date.isocalendar()[1]:02d}\"\n",
    "    week_start = schedule.date - dt.timedelta(days=schedule.date.weekday())  # Monday\n",
    "    week_end = week_start + dt.timedelta(days=6)  # Sunday\n",
    "\n",
    "    with pd.ExcelWriter(\n",
    "        f\"../data/sheet/{year}/Schedule_{schedule.station.name}_{year}W{week_number}_{week_start}_{week_end}.xlsx\"\n",
    "    ) as writer:\n",
    "        table.to_excel(writer, index=False)\n",
    "\n",
    "# Write concatenated datasets to Excel.\n",
    "# with pd.ExcelWriter(f\"../data/sheet/Schedule_{year}.xlsx\") as writer:\n",
    "#     pd.concat(data).to_excel(writer, index=False)"
   ]
  },
  {
   "cell_type": "markdown",
   "metadata": {},
   "source": []
  },
  {
   "cell_type": "code",
   "execution_count": null,
   "metadata": {},
   "outputs": [],
   "source": [
    "# # Write single dataset to Excel.\n",
    "# for _ in data:\n",
    "#     with pd.ExcelWriter(f\"../data/sheet/Schedule_{schedule.station.name}_M{schedule.date}.xlsx\") as writer:\n",
    "#         _.to_excel(writer)\n",
    "\n",
    "# Write concatenated datasets to Excel.\n",
    "with pd.ExcelWriter(f\"../data/sheet/Schedule_Y{year}.xlsx\") as writer:\n",
    "    pd.concat(data.values()).to_excel(writer)"
   ]
  },
  {
   "cell_type": "markdown",
   "metadata": {},
   "source": []
  },
  {
   "cell_type": "markdown",
   "metadata": {},
   "source": []
  }
 ],
 "metadata": {
  "interpreter": {
   "hash": "8e4236b61e4a3b08ae53654359cc9eb3acbffc1cd2cfa626a3e05fdc8be0cc9c"
  },
  "kernelspec": {
   "display_name": "Python 3.10.0 64-bit ('.venv': venv)",
   "name": "python3"
  },
  "language_info": {
   "codemirror_mode": {
    "name": "ipython",
    "version": 3
   },
   "file_extension": ".py",
   "mimetype": "text/x-python",
   "name": "python",
   "nbconvert_exporter": "python",
   "pygments_lexer": "ipython3",
   "version": "3.10.0"
  },
  "orig_nbformat": 4
 },
 "nbformat": 4,
 "nbformat_minor": 2
}
