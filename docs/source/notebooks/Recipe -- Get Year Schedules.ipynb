{
 "cells": [
  {
   "cell_type": "markdown",
   "metadata": {},
   "source": [
    "# Recipe: Get schedules for a whole year"
   ]
  },
  {
   "cell_type": "code",
   "execution_count": 2,
   "metadata": {},
   "outputs": [],
   "source": [
    "%load_ext autoreload\n",
    "%autoreload 2"
   ]
  },
  {
   "cell_type": "code",
   "execution_count": 3,
   "metadata": {},
   "outputs": [],
   "source": [
    "import datetime as dt\n",
    "\n",
    "import pandas as pd\n",
    "\n",
    "from cro.schedule import Client, Schedule"
   ]
  },
  {
   "cell_type": "code",
   "execution_count": 8,
   "metadata": {},
   "outputs": [],
   "source": [
    "YEAR = 2022\n",
    "month_dates = [dt.date(YEAR, month, 1) for month in range(1, 3)]\n",
    "data: dict[Schedule, pd.DataFrame] = {}\n",
    "\n",
    "client = Client()  # Set the station id (sid) later."
   ]
  },
  {
   "cell_type": "code",
   "execution_count": 10,
   "metadata": {},
   "outputs": [],
   "source": [
    "for sid in (\"plus\", \"radiozurnal\"):\n",
    "    client.station = sid\n",
    "    for date in month_dates:\n",
    "        schedules = client.get_month_schedule(date)\n",
    "        for schedule in schedules:\n",
    "            print(schedule.date)\n",
    "            data[schedule] = schedule.to_table()"
   ]
  },
  {
   "cell_type": "code",
   "execution_count": null,
   "metadata": {},
   "outputs": [],
   "source": [
    "# Write single dataset to Excel.\n",
    "for schedule, table in data.items():\n",
    "\n",
    "    week_number = f\"{schedule.date.isocalendar()[1]:02d}\"\n",
    "    week_start = schedule.date - dt.timedelta(days=schedule.date.weekday())  # Monday\n",
    "    week_end = week_start + dt.timedelta(days=6)  # Sunday\n",
    "\n",
    "    with pd.ExcelWriter(\n",
    "        f\"../data/sheet/{year}/Schedule_{schedule.station.name}_{year}W{week_number}_{week_start}_{week_end}.xlsx\"\n",
    "    ) as writer:\n",
    "        table.to_excel(writer, index=False)\n",
    "\n",
    "# Write concatenated datasets to Excel.\n",
    "# with pd.ExcelWriter(f\"../data/sheet/Schedule_{year}.xlsx\") as writer:\n",
    "#     pd.concat(data).to_excel(writer, index=False)"
   ]
  },
  {
   "cell_type": "markdown",
   "metadata": {},
   "source": []
  },
  {
   "cell_type": "code",
   "execution_count": null,
   "metadata": {},
   "outputs": [],
   "source": [
    "# # Write single dataset to Excel.\n",
    "# for _ in data:\n",
    "#     with pd.ExcelWriter(f\"../data/sheet/Schedule_{schedule.station.name}_M{schedule.date}.xlsx\") as writer:\n",
    "#         _.to_excel(writer)\n",
    "\n",
    "# Write concatenated datasets to Excel.\n",
    "with pd.ExcelWriter(f\"../data/sheet/Schedule_Y{year}.xlsx\") as writer:\n",
    "    pd.concat(data.values()).to_excel(writer)"
   ]
  },
  {
   "cell_type": "markdown",
   "metadata": {},
   "source": []
  },
  {
   "cell_type": "markdown",
   "metadata": {},
   "source": []
  }
 ],
 "metadata": {
  "interpreter": {
   "hash": "ed91413bac3196b0e19f22017d6da9bd06704e9c7dc84263540fb3886e4dd98a"
  },
  "kernelspec": {
   "display_name": "Python 3.10.0 64-bit ('.venv': venv)",
   "name": "python3"
  },
  "language_info": {
   "codemirror_mode": {
    "name": "ipython",
    "version": 3
   },
   "file_extension": ".py",
   "mimetype": "text/x-python",
   "name": "python",
   "nbconvert_exporter": "python",
   "pygments_lexer": "ipython3",
   "version": "3.10.0"
  },
  "orig_nbformat": 4
 },
 "nbformat": 4,
 "nbformat_minor": 2
}
