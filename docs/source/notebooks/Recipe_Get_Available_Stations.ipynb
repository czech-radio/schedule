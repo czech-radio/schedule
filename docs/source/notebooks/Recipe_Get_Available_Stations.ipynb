{
 "cells": [
  {
   "cell_type": "markdown",
   "metadata": {},
   "source": [
    "# "
   ]
  },
  {
   "cell_type": "markdown",
   "metadata": {},
   "source": [
    "# Recipe: Get the available stations\n",
    "\n",
    "## Problem\n",
    "\n",
    "You want to get a list oaf available stations (you need the station id for geting the schedule). \n",
    "\n",
    "## Solution"
   ]
  },
  {
   "cell_type": "code",
   "execution_count": 1,
   "metadata": {},
   "outputs": [],
   "source": [
    "import datetime as dt\n",
    "\n",
    "from cro.schedule import Client"
   ]
  },
  {
   "cell_type": "markdown",
   "metadata": {},
   "source": [
    "Call the class method `Client::get_stations() -> tuple[Station]`."
   ]
  },
  {
   "cell_type": "code",
   "execution_count": 2,
   "metadata": {},
   "outputs": [],
   "source": [
    "stations = Client.get_stations()"
   ]
  },
  {
   "cell_type": "code",
   "execution_count": 3,
   "metadata": {},
   "outputs": [
    {
     "name": "stdout",
     "output_type": "stream",
     "text": [
      "Station(id = radiozurnal, name = Radiožurnál, description = zpravodajství a publicistika)\n",
      "Station(id = dvojka, name = Dvojka, description = Rádio, které vás baví)\n",
      "Station(id = vltava, name = Vltava, description = zaměřeno na kulturu v širším slova smyslu)\n",
      "Station(id = plus, name = Plus, description = analyticko-publicistická stanice)\n",
      "Station(id = radiozurnal-sport, name = Radiožurnál Sport, description = Nové digitální rádio pro fanoušky sportu)\n",
      "Station(id = radiowave, name = Radio Wave, description = vysílání pro mladé)\n",
      "Station(id = d-dur, name = D-dur, description = klasická hudba od renesance až po 21. století)\n",
      "Station(id = jazz, name = Jazz, description = vysílání pro náročné jazzové posluchače)\n",
      "Station(id = radiojunior, name = Rádio Junior, description = Nejlepší pohádky, nejhezčí písničky, zábavné soutěže a veselé povídání pro všechny děti, od rána až do večera.)\n",
      "Station(id = pohoda, name = Český rozhlas Pohoda, description = Písničky a vzpomínky)\n",
      "Station(id = webik, name = Rádio Junior Písničky, description = Rádio Junior Písničky – písničky pro menší děti)\n",
      "Station(id = cro7, name = Radio Prague Int., description = vysílání do zahraničí)\n",
      "Station(id = brno, name = Brno, description = Rozhlas jižní Moravy. Evergreeny, informace, vzdělání, zábava)\n",
      "Station(id = cb, name = České Budějovice, description = Reportáže z jižních Čech, písničky na přání a dechovka)\n",
      "Station(id = hradec, name = Hradec Králové, description = Seriózní a regionální. Zábava, písničky, soutěže)\n",
      "Station(id = kv, name = Karlovy Vary, description = Zábavní hosté, užitečné rady a zprávy ze západu Čech)\n",
      "Station(id = liberec, name = Liberec, description = Zprávy ze severních Čech, zajímaví hosté, užitečné rady)\n",
      "Station(id = olomouc, name = Olomouc, description = Denně s vámi. Reportáže, zábava a dobrá muzika)\n",
      "Station(id = ostrava, name = Ostrava, description = Zprávy, rozhovory, magazíny, písničková přání, dechovky)\n",
      "Station(id = pardubice, name = Pardubice, description = Informace, hudba a zábava pro východní Čechy)\n",
      "Station(id = plzen, name = Plzeň, description = Zábavní hosté, užitečné rady a zprávy ze západu Čech)\n",
      "Station(id = regina, name = Rádio DAB Praha, description = Právě teď v Praze - zajímaví hosté, hity 80. a 90. let)\n",
      "Station(id = strednicechy, name = Region, description = Informace ze středních Čech, české písničky a zábava)\n",
      "Station(id = sever, name = Sever, description = Zprávy ze severních Čech, zajímaví hosté, užitečné rady)\n",
      "Station(id = vysocina, name = Vysočina, description = České písničky, zajímaví hosté, zprávy a doprava)\n",
      "Station(id = zlin, name = Zlín, description = Rozhlas pro Zlínský kraj)\n"
     ]
    }
   ],
   "source": [
    "for station in stations:\n",
    "    print(\n",
    "        f\"Station(id = {station.id}, name = {station.name}, description = {station.description})\"\n",
    "    )"
   ]
  }
 ],
 "metadata": {
  "interpreter": {
   "hash": "8e4236b61e4a3b08ae53654359cc9eb3acbffc1cd2cfa626a3e05fdc8be0cc9c"
  },
  "kernelspec": {
   "display_name": "Python 3.10.0 64-bit ('.venv': venv)",
   "name": "python3"
  },
  "language_info": {
   "codemirror_mode": {
    "name": "ipython",
    "version": 3
   },
   "file_extension": ".py",
   "mimetype": "text/x-python",
   "name": "python",
   "nbconvert_exporter": "python",
   "pygments_lexer": "ipython3",
   "version": "3.10.0"
  },
  "orig_nbformat": 4
 },
 "nbformat": 4,
 "nbformat_minor": 2
}
