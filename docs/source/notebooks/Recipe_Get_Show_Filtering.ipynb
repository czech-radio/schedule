{
 "cells": [
  {
   "cell_type": "markdown",
   "metadata": {},
   "source": [
    "# Recipe: Get Shows with specified attribute \n",
    "\n",
    "## Problem\n",
    "\n",
    "Get Shows with specified time or title.\n",
    "\n",
    "## Solution"
   ]
  },
  {
   "cell_type": "code",
   "execution_count": 2,
   "metadata": {},
   "outputs": [
    {
     "name": "stdout",
     "output_type": "stream",
     "text": [
      "The autoreload extension is already loaded. To reload it, use:\n",
      "  %reload_ext autoreload\n"
     ]
    }
   ],
   "source": [
    "%load_ext autoreload\n",
    "%autoreload 2"
   ]
  },
  {
   "cell_type": "code",
   "execution_count": 3,
   "metadata": {},
   "outputs": [],
   "source": [
    "import datetime as dt\n",
    "\n",
    "import pandas as pd\n",
    "\n",
    "from cro.schedule import Client, Schedule"
   ]
  },
  {
   "cell_type": "code",
   "execution_count": 4,
   "metadata": {},
   "outputs": [],
   "source": [
    "client = Client()  # Set the station id (sid) later."
   ]
  },
  {
   "cell_type": "code",
   "execution_count": 5,
   "metadata": {},
   "outputs": [],
   "source": [
    "client.station = \"plus\"\n",
    "schedule = client.get_day_schedule()  # today"
   ]
  },
  {
   "cell_type": "markdown",
   "metadata": {},
   "source": [
    "### Get shows in specified time"
   ]
  },
  {
   "cell_type": "code",
   "execution_count": 6,
   "metadata": {},
   "outputs": [
    {
     "ename": "TypeError",
     "evalue": "'>=' not supported between instances of 'datetime.time' and 'NoneType'",
     "output_type": "error",
     "traceback": [
      "\u001b[1;31m---------------------------------------------------------------------------\u001b[0m",
      "\u001b[1;31mTypeError\u001b[0m                                 Traceback (most recent call last)",
      "Input \u001b[1;32mIn [6]\u001b[0m, in \u001b[0;36m<cell line: 1>\u001b[1;34m()\u001b[0m\n\u001b[1;32m----> 1\u001b[0m shows \u001b[38;5;241m=\u001b[39m \u001b[43mschedule\u001b[49m\u001b[38;5;241;43m.\u001b[39;49m\u001b[43mshows_by_time\u001b[49m\u001b[43m(\u001b[49m\u001b[38;5;124;43m\"\u001b[39;49m\u001b[38;5;124;43m08:00:00\u001b[39;49m\u001b[38;5;124;43m\"\u001b[39;49m\u001b[43m,\u001b[49m\u001b[43m \u001b[49m\u001b[38;5;124;43m\"\u001b[39;49m\u001b[38;5;124;43m08:30:00\u001b[39;49m\u001b[38;5;124;43m\"\u001b[39;49m\u001b[43m)\u001b[49m\n\u001b[0;32m      3\u001b[0m \u001b[38;5;28;01mfor\u001b[39;00m show \u001b[38;5;129;01min\u001b[39;00m shows:\n\u001b[0;32m      4\u001b[0m     \u001b[38;5;28mprint\u001b[39m(show\u001b[38;5;241m.\u001b[39mtitle, show\u001b[38;5;241m.\u001b[39msince\u001b[38;5;241m.\u001b[39mtime()\u001b[38;5;241m.\u001b[39misoformat(), show\u001b[38;5;241m.\u001b[39mtill\u001b[38;5;241m.\u001b[39mtime()\u001b[38;5;241m.\u001b[39misoformat())\n",
      "File \u001b[1;32mc:\\users\\dlanda\\projects\\bussines\\cro-schedule-sdk\\src\\cro\\schedule\\__domain\\__init__.py:137\u001b[0m, in \u001b[0;36mSchedule.shows_by_time\u001b[1;34m(self, since, till)\u001b[0m\n\u001b[0;32m    132\u001b[0m \u001b[38;5;124;03m\"\"\"\u001b[39;00m\n\u001b[0;32m    133\u001b[0m \u001b[38;5;124;03mReturn the subset of shows filtered by time.\u001b[39;00m\n\u001b[0;32m    134\u001b[0m \u001b[38;5;124;03m\"\"\"\u001b[39;00m\n\u001b[0;32m    135\u001b[0m since, till \u001b[38;5;241m=\u001b[39m convert_date(since), convert_date(till)\n\u001b[1;32m--> 137\u001b[0m \u001b[38;5;28;01mreturn\u001b[39;00m \u001b[38;5;28;43mtuple\u001b[39;49m\u001b[43m(\u001b[49m\n\u001b[0;32m    138\u001b[0m \u001b[43m    \u001b[49m\u001b[38;5;28;43mfilter\u001b[39;49m\u001b[43m(\u001b[49m\n\u001b[0;32m    139\u001b[0m \u001b[43m        \u001b[49m\u001b[38;5;28;43;01mlambda\u001b[39;49;00m\u001b[43m \u001b[49m\u001b[43mshow\u001b[49m\u001b[43m:\u001b[49m\u001b[43m \u001b[49m\u001b[43m(\u001b[49m\u001b[43mshow\u001b[49m\u001b[38;5;241;43m.\u001b[39;49m\u001b[43msince\u001b[49m\u001b[38;5;241;43m.\u001b[39;49m\u001b[43mtime\u001b[49m\u001b[43m(\u001b[49m\u001b[43m)\u001b[49m\u001b[43m \u001b[49m\u001b[38;5;241;43m>\u001b[39;49m\u001b[38;5;241;43m=\u001b[39;49m\u001b[43m \u001b[49m\u001b[43msince\u001b[49m\u001b[43m)\u001b[49m\n\u001b[0;32m    140\u001b[0m \u001b[43m        \u001b[49m\u001b[38;5;129;43;01mand\u001b[39;49;00m\u001b[43m \u001b[49m\u001b[43m(\u001b[49m\u001b[43mshow\u001b[49m\u001b[38;5;241;43m.\u001b[39;49m\u001b[43mtill\u001b[49m\u001b[38;5;241;43m.\u001b[39;49m\u001b[43mtime\u001b[49m\u001b[43m(\u001b[49m\u001b[43m)\u001b[49m\u001b[43m \u001b[49m\u001b[38;5;241;43m<\u001b[39;49m\u001b[38;5;241;43m=\u001b[39;49m\u001b[43m \u001b[49m\u001b[43mtill\u001b[49m\u001b[43m)\u001b[49m\u001b[43m,\u001b[49m\n\u001b[0;32m    141\u001b[0m \u001b[43m        \u001b[49m\u001b[38;5;28;43mself\u001b[39;49m\u001b[38;5;241;43m.\u001b[39;49m\u001b[43mshows\u001b[49m\u001b[43m,\u001b[49m\n\u001b[0;32m    142\u001b[0m \u001b[43m    \u001b[49m\u001b[43m)\u001b[49m\n\u001b[0;32m    143\u001b[0m \u001b[43m\u001b[49m\u001b[43m)\u001b[49m\n",
      "File \u001b[1;32mc:\\users\\dlanda\\projects\\bussines\\cro-schedule-sdk\\src\\cro\\schedule\\__domain\\__init__.py:139\u001b[0m, in \u001b[0;36mSchedule.shows_by_time.<locals>.<lambda>\u001b[1;34m(show)\u001b[0m\n\u001b[0;32m    132\u001b[0m \u001b[38;5;124;03m\"\"\"\u001b[39;00m\n\u001b[0;32m    133\u001b[0m \u001b[38;5;124;03mReturn the subset of shows filtered by time.\u001b[39;00m\n\u001b[0;32m    134\u001b[0m \u001b[38;5;124;03m\"\"\"\u001b[39;00m\n\u001b[0;32m    135\u001b[0m since, till \u001b[38;5;241m=\u001b[39m convert_date(since), convert_date(till)\n\u001b[0;32m    137\u001b[0m \u001b[38;5;28;01mreturn\u001b[39;00m \u001b[38;5;28mtuple\u001b[39m(\n\u001b[0;32m    138\u001b[0m     \u001b[38;5;28mfilter\u001b[39m(\n\u001b[1;32m--> 139\u001b[0m         \u001b[38;5;28;01mlambda\u001b[39;00m show: (\u001b[43mshow\u001b[49m\u001b[38;5;241;43m.\u001b[39;49m\u001b[43msince\u001b[49m\u001b[38;5;241;43m.\u001b[39;49m\u001b[43mtime\u001b[49m\u001b[43m(\u001b[49m\u001b[43m)\u001b[49m\u001b[43m \u001b[49m\u001b[38;5;241;43m>\u001b[39;49m\u001b[38;5;241;43m=\u001b[39;49m\u001b[43m \u001b[49m\u001b[43msince\u001b[49m)\n\u001b[0;32m    140\u001b[0m         \u001b[38;5;129;01mand\u001b[39;00m (show\u001b[38;5;241m.\u001b[39mtill\u001b[38;5;241m.\u001b[39mtime() \u001b[38;5;241m<\u001b[39m\u001b[38;5;241m=\u001b[39m till),\n\u001b[0;32m    141\u001b[0m         \u001b[38;5;28mself\u001b[39m\u001b[38;5;241m.\u001b[39mshows,\n\u001b[0;32m    142\u001b[0m     )\n\u001b[0;32m    143\u001b[0m )\n",
      "\u001b[1;31mTypeError\u001b[0m: '>=' not supported between instances of 'datetime.time' and 'NoneType'"
     ]
    }
   ],
   "source": [
    "shows = schedule.shows_by_time(\"08:00:00\", \"08:30:00\")\n",
    "\n",
    "for show in shows:\n",
    "    print(show.title, show.since.time().isoformat(), show.till.time().isoformat())"
   ]
  },
  {
   "cell_type": "markdown",
   "metadata": {},
   "source": [
    "### Get shows with specified title"
   ]
  },
  {
   "cell_type": "code",
   "execution_count": 7,
   "metadata": {},
   "outputs": [
    {
     "name": "stdout",
     "output_type": "stream",
     "text": [
      "Zprávy 00:00:00 00:10:00\n",
      "Zprávy 01:00:00 01:05:00\n",
      "Zprávy 02:00:00 02:05:00\n",
      "Zprávy 03:00:00 03:05:00\n",
      "Zprávy 04:00:00 04:05:00\n",
      "Zprávy 05:00:00 05:05:00\n",
      "Zprávy 06:00:00 06:09:00\n",
      "Zprávy 07:00:00 07:09:00\n",
      "Zprávy 08:00:00 08:09:00\n",
      "Zprávy 09:00:00 09:09:00\n",
      "Zprávy 10:00:00 10:09:00\n",
      "Zprávy 10:00:00 10:00:00\n",
      "Zprávy 11:00:00 11:09:00\n",
      "Zprávy 13:00:00 13:09:00\n",
      "Zprávy 14:00:00 14:09:00\n",
      "Zprávy 15:00:00 15:09:00\n",
      "Zprávy 16:00:00 16:09:00\n",
      "Zprávy 17:00:00 17:06:00\n",
      "Zprávy 19:00:00 19:05:00\n",
      "Zprávy 20:00:00 20:05:00\n",
      "Zprávy 21:00:00 21:10:00\n",
      "Zprávy 22:00:00 22:05:00\n",
      "Zprávy 23:00:00 23:04:00\n"
     ]
    }
   ],
   "source": [
    "shows = schedule.shows_by_title(\"Zprávy\")\n",
    "\n",
    "for show in shows:\n",
    "    print(show.title, show.since.time().isoformat(), show.till.time().isoformat())"
   ]
  },
  {
   "cell_type": "code",
   "execution_count": null,
   "metadata": {},
   "outputs": [],
   "source": []
  }
 ],
 "metadata": {
  "interpreter": {
   "hash": "8e4236b61e4a3b08ae53654359cc9eb3acbffc1cd2cfa626a3e05fdc8be0cc9c"
  },
  "kernelspec": {
   "display_name": "Python 3.10.0 64-bit ('.venv': venv)",
   "name": "python3"
  },
  "language_info": {
   "codemirror_mode": {
    "name": "ipython",
    "version": 3
   },
   "file_extension": ".py",
   "mimetype": "text/x-python",
   "name": "python",
   "nbconvert_exporter": "python",
   "pygments_lexer": "ipython3",
   "version": "3.10.0"
  },
  "orig_nbformat": 4
 },
 "nbformat": 4,
 "nbformat_minor": 2
}
