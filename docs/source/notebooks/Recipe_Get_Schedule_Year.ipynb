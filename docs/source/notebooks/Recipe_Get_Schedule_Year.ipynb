{
 "cells": [
  {
   "cell_type": "markdown",
   "metadata": {},
   "source": [
    "# Recipe: Get schedules for a whole year\n",
    "\n",
    "## Problem\n",
    "\n",
    "Get schedules for a whole year.\n",
    "\n",
    "## Solution"
   ]
  },
  {
   "cell_type": "code",
   "execution_count": 1,
   "metadata": {},
   "outputs": [],
   "source": [
    "import datetime as dt\n",
    "\n",
    "import pandas as pd\n",
    "\n",
    "from cro.schedule import Client, Schedule"
   ]
  },
  {
   "cell_type": "code",
   "execution_count": 2,
   "metadata": {},
   "outputs": [],
   "source": [
    "YEAR = 2022\n",
    "month_dates = [dt.date(YEAR, month, 1) for month in range(1, 3)]\n",
    "data: dict[Schedule, pd.DataFrame] = {}\n",
    "\n",
    "client = Client()  # Set the station id (sid) later within the for loop."
   ]
  },
  {
   "cell_type": "markdown",
   "metadata": {},
   "source": [
    "Fetch the sechedules for station Plus and Radiožurnál from the beginning of the year. "
   ]
  },
  {
   "cell_type": "code",
   "execution_count": 3,
   "metadata": {},
   "outputs": [
    {
     "name": "stderr",
     "output_type": "stream",
     "text": [
      "100%|██████████| 2/2 [00:06<00:00,  3.23s/it]\n",
      "100%|██████████| 2/2 [00:06<00:00,  3.24s/it]\n"
     ]
    }
   ],
   "source": [
    "from tqdm import tqdm\n",
    "\n",
    "for sid in (\"plus\", \"radiozurnal\"):\n",
    "    client.station = sid\n",
    "    for date in tqdm(month_dates):\n",
    "        schedules = client.get_month_schedule(date)\n",
    "        for schedule in schedules:\n",
    "            data[schedule] = schedule.to_table()"
   ]
  },
  {
   "cell_type": "markdown",
   "metadata": {},
   "source": [
    "### Write single dataset to Excel"
   ]
  },
  {
   "cell_type": "code",
   "execution_count": 4,
   "metadata": {},
   "outputs": [
    {
     "name": "stderr",
     "output_type": "stream",
     "text": [
      "100%|██████████| 118/118 [00:14<00:00,  7.89it/s]\n"
     ]
    }
   ],
   "source": [
    "for schedule, table in tqdm(data.items()):\n",
    "    week_number = f\"{schedule.date.isocalendar()[1]:02d}\"\n",
    "    week_start = schedule.date - dt.timedelta(days=schedule.date.weekday())  # Monday\n",
    "    week_end = week_start + dt.timedelta(days=6)  # Sunday\n",
    "\n",
    "    with pd.ExcelWriter(\n",
    "        f\"../../../data/sheet/{YEAR}/Schedule_{schedule.station.name}_{YEAR}W{week_number}_{week_start}_{week_end}.xlsx\"\n",
    "    ) as writer:\n",
    "        table.to_excel(writer, index=False)"
   ]
  },
  {
   "cell_type": "markdown",
   "metadata": {},
   "source": [
    "### Write concatenated datasets to Excel"
   ]
  },
  {
   "cell_type": "code",
   "execution_count": 5,
   "metadata": {},
   "outputs": [],
   "source": [
    "with pd.ExcelWriter(f\"../../../data/sheet/Schedule_Y{YEAR}.xlsx\") as writer:\n",
    "    pd.concat(data.values()).to_excel(writer)"
   ]
  }
 ],
 "metadata": {
  "interpreter": {
   "hash": "8e4236b61e4a3b08ae53654359cc9eb3acbffc1cd2cfa626a3e05fdc8be0cc9c"
  },
  "kernelspec": {
   "display_name": "Python 3.10.0 64-bit ('.venv': venv)",
   "name": "python3"
  },
  "language_info": {
   "codemirror_mode": {
    "name": "ipython",
    "version": 3
   },
   "file_extension": ".py",
   "mimetype": "text/x-python",
   "name": "python",
   "nbconvert_exporter": "python",
   "pygments_lexer": "ipython3",
   "version": "3.10.0"
  },
  "orig_nbformat": 4
 },
 "nbformat": 4,
 "nbformat_minor": 2
}
