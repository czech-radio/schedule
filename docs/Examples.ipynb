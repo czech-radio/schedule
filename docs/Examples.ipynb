{
 "cells": [
  {
   "cell_type": "markdown",
   "metadata": {},
   "source": [
    "# Examples"
   ]
  },
  {
   "cell_type": "code",
   "execution_count": 1,
   "metadata": {},
   "outputs": [],
   "source": [
    "%load_ext autoreload\n",
    "%autoreload 2"
   ]
  },
  {
   "cell_type": "code",
   "execution_count": 2,
   "metadata": {},
   "outputs": [],
   "source": [
    "import datetime as dt\n",
    "\n",
    "import pandas as pd\n",
    "\n",
    "from cro.schedule import Client, Schedule"
   ]
  },
  {
   "cell_type": "code",
   "execution_count": 5,
   "metadata": {},
   "outputs": [],
   "source": [
    "client = Client() # Set the station id (sid) later.  "
   ]
  },
  {
   "cell_type": "code",
   "execution_count": 4,
   "metadata": {},
   "outputs": [],
   "source": [
    "date: str = '2022-03-14'\n",
    "\n",
    "data: list[Schedule] = []\n",
    "for sid in ('plus', 'radiozurnal'):\n",
    "    client.station = sid\n",
    "    schedules = client.get_week_schedule(date)\n",
    "    \n",
    "    for schedule in schedules:\n",
    "        # print(schedule.date, schedule.station.name, len(schedule.shows))\n",
    "        data.append(schedule.to_table())\n",
    "        # Write single dataset to Excel.\n",
    "        with pd.ExcelWriter(f\"../data/sheet/Schedule_{schedule.station.name}_W{schedule.date}.xlsx\") as writer:\n",
    "            data[-1].to_excel(writer)  \n",
    "      \n",
    "# Write concatenated datasets to Excel.      \n",
    "with pd.ExcelWriter(f\"../data/sheet/Schedule_W{date}.xlsx\") as writer:\n",
    "    pd.concat(data).to_excel(writer)"
   ]
  },
  {
   "cell_type": "markdown",
   "metadata": {},
   "source": [
    "## __Get the schedule for current day and given station__"
   ]
  },
  {
   "cell_type": "code",
   "execution_count": 5,
   "metadata": {},
   "outputs": [],
   "source": [
    "schedule = client.get_day_schedule()\n",
    "\n",
    "# for show in schedule.shows[0:3]: print(show)"
   ]
  },
  {
   "cell_type": "code",
   "execution_count": 8,
   "metadata": {},
   "outputs": [
    {
     "data": {
      "text/html": [
       "<div>\n",
       "<style scoped>\n",
       "    .dataframe tbody tr th:only-of-type {\n",
       "        vertical-align: middle;\n",
       "    }\n",
       "\n",
       "    .dataframe tbody tr th {\n",
       "        vertical-align: top;\n",
       "    }\n",
       "\n",
       "    .dataframe thead th {\n",
       "        text-align: right;\n",
       "    }\n",
       "</style>\n",
       "<table border=\"1\" class=\"dataframe\">\n",
       "  <thead>\n",
       "    <tr style=\"text-align: right;\">\n",
       "      <th></th>\n",
       "      <th>id</th>\n",
       "      <th>kind</th>\n",
       "      <th>title</th>\n",
       "      <th>station</th>\n",
       "      <th>description</th>\n",
       "      <th>since</th>\n",
       "      <th>till</th>\n",
       "      <th>duration</th>\n",
       "      <th>persons</th>\n",
       "      <th>repetition</th>\n",
       "    </tr>\n",
       "  </thead>\n",
       "  <tbody>\n",
       "    <tr>\n",
       "      <th>0</th>\n",
       "      <td>17750161</td>\n",
       "      <td>zpr</td>\n",
       "      <td>Zprávy</td>\n",
       "      <td>radiozurnal</td>\n",
       "      <td>Zpravodajství z Česka i ze světa. Sport, Zelen...</td>\n",
       "      <td>2022-03-22 00:00:00</td>\n",
       "      <td>2022-03-22 00:09:00</td>\n",
       "      <td>00:09:00</td>\n",
       "      <td>None</td>\n",
       "      <td>False</td>\n",
       "    </tr>\n",
       "    <tr>\n",
       "      <th>1</th>\n",
       "      <td>17750164</td>\n",
       "      <td>pub</td>\n",
       "      <td>Dvacet minut Radiožurnálu</td>\n",
       "      <td>radiozurnal</td>\n",
       "      <td>Hostem je Josef Středula, předseda Českomoravs...</td>\n",
       "      <td>2022-03-22 00:10:00</td>\n",
       "      <td>2022-03-22 00:30:00</td>\n",
       "      <td>00:20:00</td>\n",
       "      <td>({'id': 5004021, 'name': 'Vladimír Kroc'},)</td>\n",
       "      <td>True</td>\n",
       "    </tr>\n",
       "    <tr>\n",
       "      <th>2</th>\n",
       "      <td>17750165</td>\n",
       "      <td>zpr</td>\n",
       "      <td>Zprávy</td>\n",
       "      <td>radiozurnal</td>\n",
       "      <td>Z domova i ze světa. Sport, Zelená vlna a poča...</td>\n",
       "      <td>2022-03-22 00:30:00</td>\n",
       "      <td>2022-03-22 00:32:00</td>\n",
       "      <td>00:02:00</td>\n",
       "      <td>None</td>\n",
       "      <td>False</td>\n",
       "    </tr>\n",
       "    <tr>\n",
       "      <th>3</th>\n",
       "      <td>17750168</td>\n",
       "      <td>mag</td>\n",
       "      <td>Noční Radiožurnál</td>\n",
       "      <td>radiozurnal</td>\n",
       "      <td>Aktuální reportáže a nejrychlejší zpravodajstv...</td>\n",
       "      <td>2022-03-22 00:33:00</td>\n",
       "      <td>2022-03-22 01:00:00</td>\n",
       "      <td>00:27:00</td>\n",
       "      <td>None</td>\n",
       "      <td>False</td>\n",
       "    </tr>\n",
       "    <tr>\n",
       "      <th>4</th>\n",
       "      <td>17750169</td>\n",
       "      <td>zpr</td>\n",
       "      <td>Zprávy</td>\n",
       "      <td>radiozurnal</td>\n",
       "      <td>Zpravodajství z Česka i ze světa. Sport, Zelen...</td>\n",
       "      <td>2022-03-22 01:00:00</td>\n",
       "      <td>2022-03-22 01:04:00</td>\n",
       "      <td>00:04:00</td>\n",
       "      <td>None</td>\n",
       "      <td>False</td>\n",
       "    </tr>\n",
       "  </tbody>\n",
       "</table>\n",
       "</div>"
      ],
      "text/plain": [
       "         id kind                      title      station  \\\n",
       "0  17750161  zpr                     Zprávy  radiozurnal   \n",
       "1  17750164  pub  Dvacet minut Radiožurnálu  radiozurnal   \n",
       "2  17750165  zpr                     Zprávy  radiozurnal   \n",
       "3  17750168  mag          Noční Radiožurnál  radiozurnal   \n",
       "4  17750169  zpr                     Zprávy  radiozurnal   \n",
       "\n",
       "                                         description               since  \\\n",
       "0  Zpravodajství z Česka i ze světa. Sport, Zelen... 2022-03-22 00:00:00   \n",
       "1  Hostem je Josef Středula, předseda Českomoravs... 2022-03-22 00:10:00   \n",
       "2  Z domova i ze světa. Sport, Zelená vlna a poča... 2022-03-22 00:30:00   \n",
       "3  Aktuální reportáže a nejrychlejší zpravodajstv... 2022-03-22 00:33:00   \n",
       "4  Zpravodajství z Česka i ze světa. Sport, Zelen... 2022-03-22 01:00:00   \n",
       "\n",
       "                 till  duration                                      persons  \\\n",
       "0 2022-03-22 00:09:00  00:09:00                                         None   \n",
       "1 2022-03-22 00:30:00  00:20:00  ({'id': 5004021, 'name': 'Vladimír Kroc'},)   \n",
       "2 2022-03-22 00:32:00  00:02:00                                         None   \n",
       "3 2022-03-22 01:00:00  00:27:00                                         None   \n",
       "4 2022-03-22 01:04:00  00:04:00                                         None   \n",
       "\n",
       "   repetition  \n",
       "0       False  \n",
       "1        True  \n",
       "2       False  \n",
       "3       False  \n",
       "4       False  "
      ]
     },
     "execution_count": 8,
     "metadata": {},
     "output_type": "execute_result"
    }
   ],
   "source": [
    "df = schedule.to_table()\n",
    "\n",
    "# with open(\"Schedule.html\", \"w\") as file:\n",
    "#     file.write(df.to_html())\n",
    "\n",
    "# with pd.ExcelWriter(\"Schedule.xlsx\") as writer:\n",
    "#     df.to_excel(writer)  \n",
    "    \n",
    "df.head(5)"
   ]
  },
  {
   "cell_type": "markdown",
   "metadata": {},
   "source": [
    "## Get schedules for a whole year by months"
   ]
  },
  {
   "cell_type": "code",
   "execution_count": 16,
   "metadata": {},
   "outputs": [
    {
     "name": "stdout",
     "output_type": "stream",
     "text": [
      "[datetime.date(2022, 1, 1), datetime.date(2022, 2, 1)]\n",
      "2022-01-01\n",
      "2022-01-02\n",
      "2022-01-03\n",
      "2022-01-04\n",
      "2022-01-05\n",
      "2022-01-06\n",
      "2022-01-07\n",
      "2022-01-08\n",
      "2022-01-09\n",
      "2022-01-10\n",
      "2022-01-11\n",
      "2022-01-12\n",
      "2022-01-13\n",
      "2022-01-14\n",
      "2022-01-15\n",
      "2022-01-16\n",
      "2022-01-17\n",
      "2022-01-18\n",
      "2022-01-19\n",
      "2022-01-20\n",
      "2022-01-21\n",
      "2022-01-22\n",
      "2022-01-23\n",
      "2022-01-24\n",
      "2022-01-25\n",
      "2022-01-26\n",
      "2022-01-27\n",
      "2022-01-28\n",
      "2022-01-29\n",
      "2022-01-30\n",
      "2022-01-31\n",
      "2022-02-01\n",
      "2022-02-02\n",
      "2022-02-03\n",
      "2022-02-04\n",
      "2022-02-05\n",
      "2022-02-06\n",
      "2022-02-07\n",
      "2022-02-08\n",
      "2022-02-09\n",
      "2022-02-10\n",
      "2022-02-11\n",
      "2022-02-12\n",
      "2022-02-13\n",
      "2022-02-14\n",
      "2022-02-15\n",
      "2022-02-16\n",
      "2022-02-17\n",
      "2022-02-18\n",
      "2022-02-19\n",
      "2022-02-20\n",
      "2022-02-21\n",
      "2022-02-22\n",
      "2022-02-23\n",
      "2022-02-24\n",
      "2022-02-25\n",
      "2022-02-26\n",
      "2022-02-27\n",
      "2022-02-28\n",
      "2022-01-01\n",
      "2022-01-02\n",
      "2022-01-03\n",
      "2022-01-04\n",
      "2022-01-05\n",
      "2022-01-06\n",
      "2022-01-07\n",
      "2022-01-08\n",
      "2022-01-09\n",
      "2022-01-10\n",
      "2022-01-11\n",
      "2022-01-12\n",
      "2022-01-13\n",
      "2022-01-14\n",
      "2022-01-15\n",
      "2022-01-16\n",
      "2022-01-17\n",
      "2022-01-18\n",
      "2022-01-19\n",
      "2022-01-20\n",
      "2022-01-21\n",
      "2022-01-22\n",
      "2022-01-23\n",
      "2022-01-24\n",
      "2022-01-25\n",
      "2022-01-26\n",
      "2022-01-27\n",
      "2022-01-28\n",
      "2022-01-29\n",
      "2022-01-30\n",
      "2022-01-31\n",
      "2022-02-01\n",
      "2022-02-02\n",
      "2022-02-03\n",
      "2022-02-04\n",
      "2022-02-05\n",
      "2022-02-06\n",
      "2022-02-07\n",
      "2022-02-08\n",
      "2022-02-09\n",
      "2022-02-10\n",
      "2022-02-11\n",
      "2022-02-12\n",
      "2022-02-13\n",
      "2022-02-14\n",
      "2022-02-15\n",
      "2022-02-16\n",
      "2022-02-17\n",
      "2022-02-18\n",
      "2022-02-19\n",
      "2022-02-20\n",
      "2022-02-21\n",
      "2022-02-22\n",
      "2022-02-23\n",
      "2022-02-24\n",
      "2022-02-25\n",
      "2022-02-26\n",
      "2022-02-27\n",
      "2022-02-28\n"
     ]
    }
   ],
   "source": [
    "import datetime as dt\n",
    "\n",
    "year = 2022\n",
    "month_dates = [dt.date(year, month, 1) for month in range(1, 3)]\n",
    "data: dict[Schedule, pd.DataFrame] = {}\n",
    "\n",
    "print(month_dates)\n",
    "for sid in ('plus', 'radiozurnal'):\n",
    "    client.station = sid\n",
    "    for date in month_dates:\n",
    "        schedules = client.get_month_schedule(date)\n",
    "        for schedule in schedules:\n",
    "            print(schedule.date)\n",
    "            data[schedule] = schedule.to_table()"
   ]
  },
  {
   "cell_type": "code",
   "execution_count": 15,
   "metadata": {},
   "outputs": [],
   "source": [
    "# Write single dataset to Excel.\n",
    "for schedule, table in data.items():\n",
    "    \n",
    "    week_number = f\"{schedule.date.isocalendar()[1]:02d}\"\n",
    "    week_start = schedule.date - dt.timedelta(days=schedule.date.weekday())  # Monday\n",
    "    week_end = week_start + dt.timedelta(days=6)  # Sunday\n",
    "    \n",
    "    with pd.ExcelWriter(f\"../data/sheet/{year}/Schedule_{schedule.station.name}_{year}W{week_number}_{week_start}_{week_end}.xlsx\") as writer:\n",
    "        table.to_excel(writer, index=False)  \n",
    "      \n",
    "# Write concatenated datasets to Excel.      \n",
    "# with pd.ExcelWriter(f\"../data/sheet/Schedule_{year}.xlsx\") as writer:\n",
    "#     pd.concat(data).to_excel(writer, index=False)"
   ]
  },
  {
   "cell_type": "code",
   "execution_count": null,
   "metadata": {},
   "outputs": [],
   "source": [
    "# # Write single dataset to Excel.\n",
    "# for _ in data: \n",
    "#     with pd.ExcelWriter(f\"../data/sheet/Schedule_{schedule.station.name}_M{schedule.date}.xlsx\") as writer:\n",
    "#         _.to_excel(writer)  \n",
    "\n",
    "# Write concatenated datasets to Excel.      \n",
    "with pd.ExcelWriter(f\"../data/sheet/Schedule_Y{year}.xlsx\") as writer:\n",
    "    pd.concat(data.values()).to_excel(writer)\n",
    "    "
   ]
  },
  {
   "cell_type": "markdown",
   "metadata": {},
   "source": [
    "# Use cases\n",
    "\n",
    "## __Get schedule for given day and given station__"
   ]
  },
  {
   "cell_type": "code",
   "execution_count": 5,
   "metadata": {},
   "outputs": [
    {
     "name": "stdout",
     "output_type": "stream",
     "text": [
      "Schedule(station=Plus, date=2022-01-31, shows=88)\n"
     ]
    }
   ],
   "source": [
    "schedule: Schedule = client.get_day_schedule(date = dt.date(2022, 1, 31))\n",
    "\n",
    "print(schedule)"
   ]
  },
  {
   "cell_type": "markdown",
   "metadata": {},
   "source": [
    "## __Get schedule for a given week and given station__"
   ]
  },
  {
   "cell_type": "code",
   "execution_count": 6,
   "metadata": {},
   "outputs": [
    {
     "name": "stdout",
     "output_type": "stream",
     "text": [
      "Schedule(station=Plus, date=2022-01-31, shows=88)\n",
      "Schedule(station=Plus, date=2022-02-06, shows=88)\n"
     ]
    }
   ],
   "source": [
    "schedules: tuple[Schedule] = client.get_week_schedule(dt.date(2022, 1, 31))\n",
    "\n",
    "print(schedules[0])\n",
    "print(schedules[-1])"
   ]
  },
  {
   "cell_type": "markdown",
   "metadata": {},
   "source": [
    "## __Get schedule for a given month and given station__"
   ]
  },
  {
   "cell_type": "code",
   "execution_count": 7,
   "metadata": {},
   "outputs": [
    {
     "name": "stdout",
     "output_type": "stream",
     "text": [
      "Schedule(station=Plus, date=2022-01-01, shows=11)\n",
      "Schedule(station=Plus, date=2022-01-31, shows=12)\n"
     ]
    }
   ],
   "source": [
    "schedules = client.get_month_schedule(date = dt.date(2022, 1, 1), time=(dt.time.min, dt.time(3, 0, 0)))\n",
    "\n",
    "print(schedules[0])\n",
    "print(schedules[-1])"
   ]
  },
  {
   "cell_type": "code",
   "execution_count": 8,
   "metadata": {},
   "outputs": [
    {
     "name": "stdout",
     "output_type": "stream",
     "text": [
      "Schedule(station=Plus, date=2022-01-01, shows=11)\n",
      "Schedule(station=Plus, date=2022-01-02, shows=10)\n",
      "Schedule(station=Plus, date=2022-01-03, shows=12)\n"
     ]
    }
   ],
   "source": [
    "for schedule in schedules[:3]:\n",
    "    print(schedule)"
   ]
  },
  {
   "cell_type": "markdown",
   "metadata": {},
   "source": []
  }
 ],
 "metadata": {
  "interpreter": {
   "hash": "14f7de34c4d978f166e3dd3e61de5028fcd6c1ab50b03b967547b1a07a67a66b"
  },
  "kernelspec": {
   "display_name": "Python 3.10.0 64-bit ('.venv': venv)",
   "name": "python3"
  },
  "language_info": {
   "codemirror_mode": {
    "name": "ipython",
    "version": 3
   },
   "file_extension": ".py",
   "mimetype": "text/x-python",
   "name": "python",
   "nbconvert_exporter": "python",
   "pygments_lexer": "ipython3",
   "version": "3.10.0"
  },
  "orig_nbformat": 4
 },
 "nbformat": 4,
 "nbformat_minor": 2
}
