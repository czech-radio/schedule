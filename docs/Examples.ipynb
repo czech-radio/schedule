{
 "cells": [
  {
   "cell_type": "markdown",
   "metadata": {},
   "source": [
    "# Examples\n",
    "\n",
    "## Imports"
   ]
  },
  {
   "cell_type": "code",
   "execution_count": 1,
   "metadata": {},
   "outputs": [],
   "source": [
    "%load_ext autoreload\n",
    "%autoreload 2"
   ]
  },
  {
   "cell_type": "code",
   "execution_count": 2,
   "metadata": {},
   "outputs": [],
   "source": [
    "import datetime as dt\n",
    "\n",
    "import pandas as pd\n",
    "\n",
    "from cro.schedule import Client, Schedule\n",
    "\n",
    "client = Client('plus')"
   ]
  },
  {
   "cell_type": "markdown",
   "metadata": {},
   "source": [
    "## Features\n",
    "\n",
    "- [ ] Get a schedule for a current day and all stations\n",
    "- [x] Get the schedule for current date and given station\n",
    "- [ ] "
   ]
  },
  {
   "cell_type": "markdown",
   "metadata": {},
   "source": [
    "\n",
    "### __Get a schedule for a current day and all stations__\n",
    "\n",
    "__Request__\n",
    "\n",
    "No library function supports this."
   ]
  },
  {
   "cell_type": "markdown",
   "metadata": {},
   "source": [
    "### __Get the schedule for current day and given station__\n",
    "\n",
    "__Request__"
   ]
  },
  {
   "cell_type": "code",
   "execution_count": 3,
   "metadata": {},
   "outputs": [
    {
     "name": "stdout",
     "output_type": "stream",
     "text": [
      "Schedule(station=Plus, date=2022-03-21, shows=86)\n",
      "---\n",
      "Zprávy | Zpravodajství | 2022-03-21 00:00:00+01:00 | 2022-03-21 00:10:00+01:00 | ()\n",
      "Čekání na prezidenta | Publicistika | 2022-03-21 00:10:00+01:00 | 2022-03-21 00:50:00+01:00 | ()\n",
      "Názory a argumenty | Publicistika | 2022-03-21 00:50:00+01:00 | 2022-03-21 01:00:00+01:00 | ()\n"
     ]
    }
   ],
   "source": [
    "schedule = client.get_day_schedule()\n",
    "\n",
    "print(schedule)\n",
    "\n",
    "\n",
    "print(\"---\")\n",
    "\n",
    "# Get the shows\n",
    "\n",
    "for show in schedule.shows[:3]:\n",
    "    print(f\"{show.title} | {show.kind.name} | {show.since} | {show.till} | {show.persons}\")\n",
    "\n",
    "# or with iterator\n",
    "# for item in schedule: print(item)"
   ]
  },
  {
   "cell_type": "code",
   "execution_count": 5,
   "metadata": {},
   "outputs": [
    {
     "data": {
      "text/html": [
       "<div>\n",
       "<style scoped>\n",
       "    .dataframe tbody tr th:only-of-type {\n",
       "        vertical-align: middle;\n",
       "    }\n",
       "\n",
       "    .dataframe tbody tr th {\n",
       "        vertical-align: top;\n",
       "    }\n",
       "\n",
       "    .dataframe thead th {\n",
       "        text-align: right;\n",
       "    }\n",
       "</style>\n",
       "<table border=\"1\" class=\"dataframe\">\n",
       "  <thead>\n",
       "    <tr style=\"text-align: right;\">\n",
       "      <th></th>\n",
       "      <th>id</th>\n",
       "      <th>kind</th>\n",
       "      <th>title</th>\n",
       "      <th>station</th>\n",
       "      <th>description</th>\n",
       "      <th>since</th>\n",
       "      <th>till</th>\n",
       "      <th>persons</th>\n",
       "      <th>repetition</th>\n",
       "    </tr>\n",
       "  </thead>\n",
       "  <tbody>\n",
       "    <tr>\n",
       "      <th>0</th>\n",
       "      <td>17684084</td>\n",
       "      <td>zpr</td>\n",
       "      <td>Zprávy</td>\n",
       "      <td>plus</td>\n",
       "      <td>Aktuální události doma i ve světě</td>\n",
       "      <td>2022-03-21 00:10:00</td>\n",
       "      <td>2022-03-21 00:10:00</td>\n",
       "      <td>()</td>\n",
       "      <td>False</td>\n",
       "    </tr>\n",
       "    <tr>\n",
       "      <th>1</th>\n",
       "      <td>17684085</td>\n",
       "      <td>pub</td>\n",
       "      <td>Čekání na prezidenta</td>\n",
       "      <td>plus</td>\n",
       "      <td>Další epizoda podcastu Čekání na prezidenta je...</td>\n",
       "      <td>2022-03-21 00:50:00</td>\n",
       "      <td>2022-03-21 00:50:00</td>\n",
       "      <td>()</td>\n",
       "      <td>True</td>\n",
       "    </tr>\n",
       "    <tr>\n",
       "      <th>2</th>\n",
       "      <td>17684086</td>\n",
       "      <td>pub</td>\n",
       "      <td>Názory a argumenty</td>\n",
       "      <td>plus</td>\n",
       "      <td>Den pohledem renomovaných komentátorů ve zkrác...</td>\n",
       "      <td>2022-03-21 01:00:00</td>\n",
       "      <td>2022-03-21 01:00:00</td>\n",
       "      <td>()</td>\n",
       "      <td>True</td>\n",
       "    </tr>\n",
       "    <tr>\n",
       "      <th>3</th>\n",
       "      <td>17684087</td>\n",
       "      <td>zpr</td>\n",
       "      <td>Zprávy</td>\n",
       "      <td>plus</td>\n",
       "      <td>Aktuální události doma i ve světě</td>\n",
       "      <td>2022-03-21 01:05:00</td>\n",
       "      <td>2022-03-21 01:05:00</td>\n",
       "      <td>()</td>\n",
       "      <td>False</td>\n",
       "    </tr>\n",
       "    <tr>\n",
       "      <th>4</th>\n",
       "      <td>17684088</td>\n",
       "      <td>pub</td>\n",
       "      <td>Svět ve 20 minutách</td>\n",
       "      <td>plus</td>\n",
       "      <td>Může se Rusko vyrovnat s ekonomickými následky...</td>\n",
       "      <td>2022-03-21 01:30:00</td>\n",
       "      <td>2022-03-21 01:30:00</td>\n",
       "      <td>()</td>\n",
       "      <td>True</td>\n",
       "    </tr>\n",
       "  </tbody>\n",
       "</table>\n",
       "</div>"
      ],
      "text/plain": [
       "         id kind                 title station  \\\n",
       "0  17684084  zpr                Zprávy    plus   \n",
       "1  17684085  pub  Čekání na prezidenta    plus   \n",
       "2  17684086  pub    Názory a argumenty    plus   \n",
       "3  17684087  zpr                Zprávy    plus   \n",
       "4  17684088  pub   Svět ve 20 minutách    plus   \n",
       "\n",
       "                                         description               since  \\\n",
       "0                  Aktuální události doma i ve světě 2022-03-21 00:10:00   \n",
       "1  Další epizoda podcastu Čekání na prezidenta je... 2022-03-21 00:50:00   \n",
       "2  Den pohledem renomovaných komentátorů ve zkrác... 2022-03-21 01:00:00   \n",
       "3                  Aktuální události doma i ve světě 2022-03-21 01:05:00   \n",
       "4  Může se Rusko vyrovnat s ekonomickými následky... 2022-03-21 01:30:00   \n",
       "\n",
       "                 till persons  repetition  \n",
       "0 2022-03-21 00:10:00      ()       False  \n",
       "1 2022-03-21 00:50:00      ()        True  \n",
       "2 2022-03-21 01:00:00      ()        True  \n",
       "3 2022-03-21 01:05:00      ()       False  \n",
       "4 2022-03-21 01:30:00      ()        True  "
      ]
     },
     "execution_count": 5,
     "metadata": {},
     "output_type": "execute_result"
    }
   ],
   "source": [
    "df = schedule.as_table()\n",
    "\n",
    "# with open(\"schedule_example.html\", \"w\") as file:\n",
    "#     file.write(df.to_html())\n",
    "\n",
    "with pd.ExcelWriter(\"schedule_example.xlsx\") as writer:\n",
    "    df.to_excel(writer)  \n",
    "    \n",
    "df.head(5)"
   ]
  },
  {
   "cell_type": "markdown",
   "metadata": {},
   "source": [
    "\n",
    "### __Get schedule for given day and given station__\n",
    "\n",
    "__Request__"
   ]
  },
  {
   "cell_type": "code",
   "execution_count": 6,
   "metadata": {},
   "outputs": [
    {
     "name": "stdout",
     "output_type": "stream",
     "text": [
      "Schedule(station=Plus, date=2022-01-31, shows=88)\n"
     ]
    }
   ],
   "source": [
    "schedule: Schedule = client.get_day_schedule(date = dt.date(2022, 1, 31))\n",
    "\n",
    "print(schedule)"
   ]
  },
  {
   "cell_type": "markdown",
   "metadata": {},
   "source": [
    "### __Get schedule for a given week and given station__\n",
    "\n",
    "__Request__"
   ]
  },
  {
   "cell_type": "code",
   "execution_count": 4,
   "metadata": {},
   "outputs": [
    {
     "name": "stdout",
     "output_type": "stream",
     "text": [
      "Schedule(station=Plus, date=2022-01-31, shows=88)\n",
      "Schedule(station=Plus, date=2022-02-06, shows=88)\n"
     ]
    }
   ],
   "source": [
    "schedules: tuple[Schedule] = client.get_week_schedule(dt.date(2022, 1, 31))\n",
    "\n",
    "print(schedules[0])\n",
    "print(schedules[-1])"
   ]
  },
  {
   "cell_type": "markdown",
   "metadata": {},
   "source": [
    "### __Get schedule for a given month and given station__\n",
    "\n",
    "__Request__"
   ]
  },
  {
   "cell_type": "code",
   "execution_count": 3,
   "metadata": {},
   "outputs": [
    {
     "name": "stdout",
     "output_type": "stream",
     "text": [
      "Schedule(station=Plus, date=2022-01-01, shows=11)\n",
      "Schedule(station=Plus, date=2022-01-31, shows=12)\n"
     ]
    }
   ],
   "source": [
    "schedules = client.get_month_schedule(date = dt.date(2022, 1, 1), time=(dt.time.min, dt.time(3, 0, 0)))\n",
    "\n",
    "print(schedules[0])\n",
    "print(schedules[-1])"
   ]
  },
  {
   "cell_type": "code",
   "execution_count": 4,
   "metadata": {},
   "outputs": [
    {
     "name": "stdout",
     "output_type": "stream",
     "text": [
      "Schedule(station=Plus, date=2022-01-01, shows=11)\n",
      "Schedule(station=Plus, date=2022-01-02, shows=10)\n",
      "Schedule(station=Plus, date=2022-01-03, shows=12)\n",
      "Schedule(station=Plus, date=2022-01-04, shows=13)\n",
      "Schedule(station=Plus, date=2022-01-05, shows=13)\n",
      "Schedule(station=Plus, date=2022-01-06, shows=13)\n",
      "Schedule(station=Plus, date=2022-01-07, shows=13)\n",
      "Schedule(station=Plus, date=2022-01-08, shows=13)\n",
      "Schedule(station=Plus, date=2022-01-09, shows=12)\n",
      "Schedule(station=Plus, date=2022-01-10, shows=10)\n",
      "Schedule(station=Plus, date=2022-01-11, shows=13)\n",
      "Schedule(station=Plus, date=2022-01-12, shows=13)\n",
      "Schedule(station=Plus, date=2022-01-13, shows=13)\n",
      "Schedule(station=Plus, date=2022-01-14, shows=13)\n",
      "Schedule(station=Plus, date=2022-01-15, shows=13)\n",
      "Schedule(station=Plus, date=2022-01-16, shows=12)\n",
      "Schedule(station=Plus, date=2022-01-17, shows=12)\n",
      "Schedule(station=Plus, date=2022-01-18, shows=13)\n",
      "Schedule(station=Plus, date=2022-01-19, shows=13)\n",
      "Schedule(station=Plus, date=2022-01-20, shows=13)\n",
      "Schedule(station=Plus, date=2022-01-21, shows=13)\n",
      "Schedule(station=Plus, date=2022-01-22, shows=13)\n",
      "Schedule(station=Plus, date=2022-01-23, shows=12)\n",
      "Schedule(station=Plus, date=2022-01-24, shows=12)\n",
      "Schedule(station=Plus, date=2022-01-25, shows=13)\n",
      "Schedule(station=Plus, date=2022-01-26, shows=13)\n",
      "Schedule(station=Plus, date=2022-01-27, shows=13)\n",
      "Schedule(station=Plus, date=2022-01-28, shows=13)\n",
      "Schedule(station=Plus, date=2022-01-29, shows=13)\n",
      "Schedule(station=Plus, date=2022-01-30, shows=12)\n",
      "Schedule(station=Plus, date=2022-01-31, shows=12)\n"
     ]
    }
   ],
   "source": [
    "for schedule in schedules:\n",
    "    print(schedule)"
   ]
  },
  {
   "cell_type": "markdown",
   "metadata": {},
   "source": []
  }
 ],
 "metadata": {
  "interpreter": {
   "hash": "14f7de34c4d978f166e3dd3e61de5028fcd6c1ab50b03b967547b1a07a67a66b"
  },
  "kernelspec": {
   "display_name": "Python 3.10.0 64-bit ('.venv': venv)",
   "name": "python3"
  },
  "language_info": {
   "codemirror_mode": {
    "name": "ipython",
    "version": 3
   },
   "file_extension": ".py",
   "mimetype": "text/x-python",
   "name": "python",
   "nbconvert_exporter": "python",
   "pygments_lexer": "ipython3",
   "version": "3.10.0"
  },
  "orig_nbformat": 4
 },
 "nbformat": 4,
 "nbformat_minor": 2
}
