{
 "cells": [
  {
   "cell_type": "markdown",
   "metadata": {},
   "source": [
    "# Examples\n",
    "\n",
    "## Imports"
   ]
  },
  {
   "cell_type": "code",
   "execution_count": 1,
   "metadata": {},
   "outputs": [],
   "source": [
    "import datetime as dt\n",
    "\n",
    "import pandas as pd\n",
    "\n",
    "from cro.schedule import Client, Schedule\n",
    "\n",
    "client = Client('plus')"
   ]
  },
  {
   "cell_type": "markdown",
   "metadata": {},
   "source": [
    "## Features\n",
    "\n",
    "- [ ] Get a schedule for a current day and all stations\n",
    "- [x] Get the schedule for current date and given station\n",
    "- [ ] "
   ]
  },
  {
   "cell_type": "markdown",
   "metadata": {},
   "source": [
    "\n",
    "### __Get a schedule for a current day and all stations__\n",
    "\n",
    "__Request__\n",
    "\n",
    "No library function supports this."
   ]
  },
  {
   "cell_type": "markdown",
   "metadata": {},
   "source": [
    "### __Get the schedule for current day and given station__\n",
    "\n",
    "__Request__"
   ]
  },
  {
   "cell_type": "code",
   "execution_count": 2,
   "metadata": {},
   "outputs": [
    {
     "name": "stdout",
     "output_type": "stream",
     "text": [
      "Schedule(station=Plus, date=2022-03-20, shows=85)\n",
      "---\n",
      "Zprávy | Zpravodajství | 2022-03-20 00:00:00+01:00 | 2022-03-20 00:10:00+01:00 | ()\n",
      "Svět ve 20 minutách | Publicistika | 2022-03-20 00:10:00+01:00 | 2022-03-20 00:34:00+01:00 | ()\n",
      "Online Plus | Publicistika | 2022-03-20 00:34:00+01:00 | 2022-03-20 01:00:00+01:00 | ()\n"
     ]
    }
   ],
   "source": [
    "schedule = client.get_day_schedule()\n",
    "\n",
    "print(schedule)\n",
    "\n",
    "\n",
    "print(\"---\")\n",
    "\n",
    "# Get the shows\n",
    "\n",
    "for show in schedule.shows[:3]:\n",
    "    print(f\"{show.title} | {show.kind.name} | {show.since} | {show.till} | {show.persons}\")\n",
    "\n",
    "# or with iterator\n",
    "# for item in schedule: print(item)"
   ]
  },
  {
   "cell_type": "markdown",
   "metadata": {},
   "source": [
    "\n",
    "### __Get schedule for given day and given station__\n",
    "\n",
    "__Request__"
   ]
  },
  {
   "cell_type": "code",
   "execution_count": 3,
   "metadata": {},
   "outputs": [
    {
     "name": "stdout",
     "output_type": "stream",
     "text": [
      "Schedule(station=Plus, date=2022-01-31, shows=88)\n"
     ]
    }
   ],
   "source": [
    "schedule: Schedule = client.get_day_schedule(date = dt.date(2022, 1, 31))\n",
    "\n",
    "print(schedule)"
   ]
  },
  {
   "cell_type": "markdown",
   "metadata": {},
   "source": [
    "### __Get schedule for a given week and given station__\n",
    "\n",
    "__Request__"
   ]
  },
  {
   "cell_type": "code",
   "execution_count": 4,
   "metadata": {},
   "outputs": [
    {
     "name": "stdout",
     "output_type": "stream",
     "text": [
      "Schedule(station=Plus, date=2022-01-31, shows=88)\n",
      "Schedule(station=Plus, date=2022-02-06, shows=88)\n"
     ]
    }
   ],
   "source": [
    "schedules: tuple[Schedule] = client.get_week_schedule(dt.date(2022, 1, 31))\n",
    "\n",
    "print(schedules[0])\n",
    "print(schedules[-1])"
   ]
  },
  {
   "cell_type": "markdown",
   "metadata": {},
   "source": [
    "### __Get schedule for a given month and given station__\n",
    "\n",
    "__Request__"
   ]
  },
  {
   "cell_type": "code",
   "execution_count": 3,
   "metadata": {},
   "outputs": [
    {
     "name": "stdout",
     "output_type": "stream",
     "text": [
      "Schedule(station=Plus, date=2022-01-01, shows=11)\n",
      "Schedule(station=Plus, date=2022-01-31, shows=12)\n"
     ]
    }
   ],
   "source": [
    "schedules = client.get_month_schedule(date = dt.date(2022, 1, 1), time=(dt.time.min, dt.time(3, 0, 0)))\n",
    "\n",
    "print(schedules[0])\n",
    "print(schedules[-1])"
   ]
  },
  {
   "cell_type": "code",
   "execution_count": 4,
   "metadata": {},
   "outputs": [
    {
     "name": "stdout",
     "output_type": "stream",
     "text": [
      "Schedule(station=Plus, date=2022-01-01, shows=11)\n",
      "Schedule(station=Plus, date=2022-01-02, shows=10)\n",
      "Schedule(station=Plus, date=2022-01-03, shows=12)\n",
      "Schedule(station=Plus, date=2022-01-04, shows=13)\n",
      "Schedule(station=Plus, date=2022-01-05, shows=13)\n",
      "Schedule(station=Plus, date=2022-01-06, shows=13)\n",
      "Schedule(station=Plus, date=2022-01-07, shows=13)\n",
      "Schedule(station=Plus, date=2022-01-08, shows=13)\n",
      "Schedule(station=Plus, date=2022-01-09, shows=12)\n",
      "Schedule(station=Plus, date=2022-01-10, shows=10)\n",
      "Schedule(station=Plus, date=2022-01-11, shows=13)\n",
      "Schedule(station=Plus, date=2022-01-12, shows=13)\n",
      "Schedule(station=Plus, date=2022-01-13, shows=13)\n",
      "Schedule(station=Plus, date=2022-01-14, shows=13)\n",
      "Schedule(station=Plus, date=2022-01-15, shows=13)\n",
      "Schedule(station=Plus, date=2022-01-16, shows=12)\n",
      "Schedule(station=Plus, date=2022-01-17, shows=12)\n",
      "Schedule(station=Plus, date=2022-01-18, shows=13)\n",
      "Schedule(station=Plus, date=2022-01-19, shows=13)\n",
      "Schedule(station=Plus, date=2022-01-20, shows=13)\n",
      "Schedule(station=Plus, date=2022-01-21, shows=13)\n",
      "Schedule(station=Plus, date=2022-01-22, shows=13)\n",
      "Schedule(station=Plus, date=2022-01-23, shows=12)\n",
      "Schedule(station=Plus, date=2022-01-24, shows=12)\n",
      "Schedule(station=Plus, date=2022-01-25, shows=13)\n",
      "Schedule(station=Plus, date=2022-01-26, shows=13)\n",
      "Schedule(station=Plus, date=2022-01-27, shows=13)\n",
      "Schedule(station=Plus, date=2022-01-28, shows=13)\n",
      "Schedule(station=Plus, date=2022-01-29, shows=13)\n",
      "Schedule(station=Plus, date=2022-01-30, shows=12)\n",
      "Schedule(station=Plus, date=2022-01-31, shows=12)\n"
     ]
    }
   ],
   "source": [
    "for schedule in schedules:\n",
    "    print(schedule)"
   ]
  },
  {
   "cell_type": "markdown",
   "metadata": {},
   "source": []
  }
 ],
 "metadata": {
  "interpreter": {
   "hash": "14f7de34c4d978f166e3dd3e61de5028fcd6c1ab50b03b967547b1a07a67a66b"
  },
  "kernelspec": {
   "display_name": "Python 3.10.0 64-bit ('.venv': venv)",
   "name": "python3"
  },
  "language_info": {
   "codemirror_mode": {
    "name": "ipython",
    "version": 3
   },
   "file_extension": ".py",
   "mimetype": "text/x-python",
   "name": "python",
   "nbconvert_exporter": "python",
   "pygments_lexer": "ipython3",
   "version": "3.10.0"
  },
  "orig_nbformat": 4
 },
 "nbformat": 4,
 "nbformat_minor": 2
}
