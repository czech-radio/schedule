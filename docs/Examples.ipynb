{
 "cells": [
  {
   "cell_type": "code",
   "execution_count": 25,
   "metadata": {},
   "outputs": [],
   "source": [
    "import pandas as pd\n",
    "\n",
    "from cro.schedule import Client\n",
    "\n",
    "\n",
    "client = Client('plus')"
   ]
  },
  {
   "cell_type": "markdown",
   "metadata": {},
   "source": [
    "\n",
    "### Aktuální den a všechny stanice\n",
    "\n",
    "__Endpoint__\n",
    "```\n",
    "https://api.rozhlas.cz/data/v2/schedule/day.json\n",
    "```\n",
    "\n",
    "### Aktuální den a konkrétní stanice\n",
    "\n",
    "__Endpoint__\n",
    "```\n",
    "https://api.rozhlas.cz/data/v2/schedule/day/[STATION_ID].json\n",
    "např. https://api.rozhlas.cz/data/v2/schedule/day/plus.json\n",
    "```\n",
    "\n",
    "```python\n",
    "client = Client(station='plus')\n",
    "result = client.get_schedule()\n",
    "```\n",
    "\n",
    "### Konkrétní den a konkrétní stanici\n",
    "\n",
    "__Endpoint__\n",
    "```\n",
    "https://api.rozhlas.cz/data/v2/schedule/day/[YYYY]/[MM]/[DD]/[STATION_ID].json\n",
    "např. https://api.rozhlas.cz/data/v2/schedule/day/2019/09/01/plus.json\n",
    "```\n",
    "\n",
    "```python\n",
    "\n",
    "from datetime import date\n",
    "\n",
    "client = Client('plus')\n",
    "result = client.get_schedule(date = date(2021, 12, 31)\n",
    "```\n",
    "\n",
    "### Konkrétní den a všechny stanice\n",
    "\n",
    "__Endpoint__\n",
    "```\n",
    "https://api.rozhlas.cz/data/v2/schedule/day/[YYYY]/[MM]/[DD].json\n",
    "např. https://api.rozhlas.cz/data/v2/schedule/day/2019/09/01.json\n",
    "```\n",
    "\n",
    "```python\n",
    "client = Client()\n",
    "result = client.get_schedule(date = date(2022, 12, 1))\n",
    "```\n",
    "\n",
    "### Seznam pořadů\n",
    "\n",
    "```python\n",
    "client = Client(\"plus\")\n",
    "\n",
    "result: Schedule = client.get_schedule()\n",
    "\n",
    "for item in result.shows:\n",
    "    print(item)\n",
    "```\n",
    "\n",
    "Nebo pomocí iterátoru:\n",
    "\n",
    "```python\n",
    "for item in result:\n",
    "    print(item)\n",
    "\n",
    "```\n",
    "\n",
    "### Seznam stanic\n",
    "\n",
    "__Endpoint__\n",
    "```\n",
    "https://api.rozhlas.cz/data/v2/meta/stations.json\n",
    "```\n",
    "\n",
    "__Volání__\n",
    "```python\n",
    "    client = Client(\"plus\")\n",
    "\n",
    "    result: tuple[Station] = client.get_stations()\n",
    "\n",
    "    for station in result:\n",
    "        print(station)\n",
    "```\n"
   ]
  },
  {
   "cell_type": "code",
   "execution_count": 5,
   "metadata": {},
   "outputs": [],
   "source": [
    "\n",
    "schedule = client.get_schedule()\n"
   ]
  },
  {
   "cell_type": "code",
   "execution_count": 13,
   "metadata": {},
   "outputs": [
    {
     "data": {
      "text/plain": [
       "datetime.datetime(2022, 3, 19, 8, 29, 53, 416894)"
      ]
     },
     "execution_count": 13,
     "metadata": {},
     "output_type": "execute_result"
    }
   ],
   "source": [
    "schedule.date"
   ]
  },
  {
   "cell_type": "code",
   "execution_count": null,
   "metadata": {},
   "outputs": [],
   "source": [
    "schedule.station"
   ]
  },
  {
   "cell_type": "code",
   "execution_count": 24,
   "metadata": {},
   "outputs": [
    {
     "name": "stdout",
     "output_type": "stream",
     "text": [
      "Zprávy | Kind(id=1, code='ZPR', name='Zpravodajství') | 2022-03-19T00:00:00+01:00 | 2022-03-19T00:10:00+01:00 | ()\n",
      "Dvacet minut Radiožurnálu | Kind(id=2, code='PUB', name='Publicistika') | 2022-03-19T00:10:00+01:00 | 2022-03-19T00:36:00+01:00 | ()\n",
      "Pro a proti | Kind(id=2, code='PUB', name='Publicistika') | 2022-03-19T00:36:00+01:00 | 2022-03-19T01:00:00+01:00 | (Person(id=5002197, name='Karolína Koubová'),)\n",
      "Zprávy | Kind(id=1, code='ZPR', name='Zpravodajství') | 2022-03-19T01:00:00+01:00 | 2022-03-19T01:05:00+01:00 | ()\n",
      "Zprávy v angličtině/News in English | Kind(id=1, code='ZPR', name='Zpravodajství') | 2022-03-19T01:05:00+01:00 | 2022-03-19T01:10:00+01:00 | ()\n"
     ]
    }
   ],
   "source": [
    "for show in schedule.shows[:5]:\n",
    "    print(f\"{show.title} | {show.kind} | {show.since} | {show.till} | {show.persons}\")"
   ]
  }
 ],
 "metadata": {
  "interpreter": {
   "hash": "14f7de34c4d978f166e3dd3e61de5028fcd6c1ab50b03b967547b1a07a67a66b"
  },
  "kernelspec": {
   "display_name": "Python 3.10.0 64-bit ('.venv': venv)",
   "name": "python3"
  },
  "language_info": {
   "codemirror_mode": {
    "name": "ipython",
    "version": 3
   },
   "file_extension": ".py",
   "mimetype": "text/x-python",
   "name": "python",
   "nbconvert_exporter": "python",
   "pygments_lexer": "ipython3",
   "version": "3.10.0"
  },
  "orig_nbformat": 4
 },
 "nbformat": 4,
 "nbformat_minor": 2
}
