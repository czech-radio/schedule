{
 "cells": [
  {
   "cell_type": "markdown",
   "metadata": {},
   "source": [
    "# Examples"
   ]
  },
  {
   "cell_type": "code",
   "execution_count": 1,
   "metadata": {},
   "outputs": [],
   "source": [
    "%load_ext autoreload\n",
    "%autoreload 2"
   ]
  },
  {
   "cell_type": "code",
   "execution_count": 2,
   "metadata": {},
   "outputs": [],
   "source": [
    "import datetime as dt\n",
    "\n",
    "import pandas as pd\n",
    "\n",
    "from cro.schedule import Client, Schedule\n",
    "\n",
    "client = Client('plus')"
   ]
  },
  {
   "cell_type": "code",
   "execution_count": 22,
   "metadata": {},
   "outputs": [
    {
     "name": "stdout",
     "output_type": "stream",
     "text": [
      "2022-03-14 Plus 82\n",
      "2022-03-15 Plus 79\n",
      "2022-03-16 Plus 81\n",
      "2022-03-17 Plus 81\n",
      "2022-03-18 Plus 83\n",
      "2022-03-19 Plus 84\n",
      "2022-03-20 Plus 83\n",
      "2022-03-14 Radiožurnál 83\n",
      "2022-03-15 Radiožurnál 83\n",
      "2022-03-16 Radiožurnál 83\n",
      "2022-03-17 Radiožurnál 83\n",
      "2022-03-18 Radiožurnál 83\n",
      "2022-03-19 Radiožurnál 81\n",
      "2022-03-20 Radiožurnál 78\n"
     ]
    }
   ],
   "source": [
    "data = []\n",
    "date = '2022-03-14'\n",
    "for station in ('plus', 'radiozurnal'):\n",
    "    client.station = station\n",
    "    schedules = client.get_week_schedule(date)\n",
    "    for schedule in schedules:\n",
    "        print(schedule.date, schedule.station.name, len(schedule.shows))\n",
    "        data.append(schedule.to_table())\n",
    "        with pd.ExcelWriter(f\"../data/Schedule_{schedule.station.name}_{schedule.date}.xlsx\") as writer:\n",
    "            df.to_excel(writer)  \n",
    "\n",
    "all = pd.concat(data)\n",
    "with pd.ExcelWriter(f\"../data/Schedule_{date}.xlsx\") as writer:\n",
    "    all.to_excel(writer) "
   ]
  },
  {
   "cell_type": "markdown",
   "metadata": {},
   "source": [
    "## __Get the schedule for current day and given station__"
   ]
  },
  {
   "cell_type": "code",
   "execution_count": 3,
   "metadata": {},
   "outputs": [],
   "source": [
    "schedule = client.get_day_schedule()\n",
    "\n",
    "# for show in schedule.shows[0:3]: print(show)"
   ]
  },
  {
   "cell_type": "code",
   "execution_count": 4,
   "metadata": {},
   "outputs": [
    {
     "data": {
      "text/html": [
       "<div>\n",
       "<style scoped>\n",
       "    .dataframe tbody tr th:only-of-type {\n",
       "        vertical-align: middle;\n",
       "    }\n",
       "\n",
       "    .dataframe tbody tr th {\n",
       "        vertical-align: top;\n",
       "    }\n",
       "\n",
       "    .dataframe thead th {\n",
       "        text-align: right;\n",
       "    }\n",
       "</style>\n",
       "<table border=\"1\" class=\"dataframe\">\n",
       "  <thead>\n",
       "    <tr style=\"text-align: right;\">\n",
       "      <th></th>\n",
       "      <th>id</th>\n",
       "      <th>kind</th>\n",
       "      <th>title</th>\n",
       "      <th>station</th>\n",
       "      <th>description</th>\n",
       "      <th>since</th>\n",
       "      <th>till</th>\n",
       "      <th>duration</th>\n",
       "      <th>persons</th>\n",
       "      <th>repetition</th>\n",
       "    </tr>\n",
       "  </thead>\n",
       "  <tbody>\n",
       "    <tr>\n",
       "      <th>0</th>\n",
       "      <td>17684196</td>\n",
       "      <td>zpr</td>\n",
       "      <td>Zprávy</td>\n",
       "      <td>plus</td>\n",
       "      <td>Aktuální události doma i ve světě</td>\n",
       "      <td>2022-03-22 00:10:00</td>\n",
       "      <td>2022-03-22 00:10:00</td>\n",
       "      <td>00:10:00</td>\n",
       "      <td>()</td>\n",
       "      <td>False</td>\n",
       "    </tr>\n",
       "    <tr>\n",
       "      <th>1</th>\n",
       "      <td>17684197</td>\n",
       "      <td>pub</td>\n",
       "      <td>Dvacet minut Radiožurnálu</td>\n",
       "      <td>plus</td>\n",
       "      <td>Hostem je Josef Středula, předseda Českomoravs...</td>\n",
       "      <td>2022-03-22 00:36:00</td>\n",
       "      <td>2022-03-22 00:36:00</td>\n",
       "      <td>00:26:00</td>\n",
       "      <td>()</td>\n",
       "      <td>True</td>\n",
       "    </tr>\n",
       "    <tr>\n",
       "      <th>2</th>\n",
       "      <td>17684198</td>\n",
       "      <td>pub</td>\n",
       "      <td>Pro a proti</td>\n",
       "      <td>plus</td>\n",
       "      <td>Válka na Ukrajině oživila mezi částí politiků ...</td>\n",
       "      <td>2022-03-22 01:00:00</td>\n",
       "      <td>2022-03-22 01:00:00</td>\n",
       "      <td>00:24:00</td>\n",
       "      <td>()</td>\n",
       "      <td>True</td>\n",
       "    </tr>\n",
       "    <tr>\n",
       "      <th>3</th>\n",
       "      <td>17684199</td>\n",
       "      <td>zpr</td>\n",
       "      <td>Zprávy</td>\n",
       "      <td>plus</td>\n",
       "      <td>Aktuální události doma i ve světě</td>\n",
       "      <td>2022-03-22 01:05:00</td>\n",
       "      <td>2022-03-22 01:05:00</td>\n",
       "      <td>00:05:00</td>\n",
       "      <td>()</td>\n",
       "      <td>False</td>\n",
       "    </tr>\n",
       "    <tr>\n",
       "      <th>4</th>\n",
       "      <td>17684200</td>\n",
       "      <td>zpr</td>\n",
       "      <td>Zprávy v angličtině/News in English</td>\n",
       "      <td>plus</td>\n",
       "      <td>Pětiminutový přehled aktuálního dění v anglick...</td>\n",
       "      <td>2022-03-22 01:10:00</td>\n",
       "      <td>2022-03-22 01:10:00</td>\n",
       "      <td>00:05:00</td>\n",
       "      <td>()</td>\n",
       "      <td>False</td>\n",
       "    </tr>\n",
       "  </tbody>\n",
       "</table>\n",
       "</div>"
      ],
      "text/plain": [
       "         id kind                                title station  \\\n",
       "0  17684196  zpr                               Zprávy    plus   \n",
       "1  17684197  pub            Dvacet minut Radiožurnálu    plus   \n",
       "2  17684198  pub                          Pro a proti    plus   \n",
       "3  17684199  zpr                               Zprávy    plus   \n",
       "4  17684200  zpr  Zprávy v angličtině/News in English    plus   \n",
       "\n",
       "                                         description               since  \\\n",
       "0                  Aktuální události doma i ve světě 2022-03-22 00:10:00   \n",
       "1  Hostem je Josef Středula, předseda Českomoravs... 2022-03-22 00:36:00   \n",
       "2  Válka na Ukrajině oživila mezi částí politiků ... 2022-03-22 01:00:00   \n",
       "3                  Aktuální události doma i ve světě 2022-03-22 01:05:00   \n",
       "4  Pětiminutový přehled aktuálního dění v anglick... 2022-03-22 01:10:00   \n",
       "\n",
       "                 till  duration persons  repetition  \n",
       "0 2022-03-22 00:10:00  00:10:00      ()       False  \n",
       "1 2022-03-22 00:36:00  00:26:00      ()        True  \n",
       "2 2022-03-22 01:00:00  00:24:00      ()        True  \n",
       "3 2022-03-22 01:05:00  00:05:00      ()       False  \n",
       "4 2022-03-22 01:10:00  00:05:00      ()       False  "
      ]
     },
     "execution_count": 4,
     "metadata": {},
     "output_type": "execute_result"
    }
   ],
   "source": [
    "df = schedule.to_table()\n",
    "\n",
    "# with open(\"Schedule.html\", \"w\") as file:\n",
    "#     file.write(df.to_html())\n",
    "\n",
    "# with pd.ExcelWriter(\"Schedule.xlsx\") as writer:\n",
    "#     df.to_excel(writer)  \n",
    "    \n",
    "df.head(5)"
   ]
  },
  {
   "cell_type": "markdown",
   "metadata": {},
   "source": [
    "\n",
    "## __Get schedule for given day and given station__"
   ]
  },
  {
   "cell_type": "code",
   "execution_count": 5,
   "metadata": {},
   "outputs": [
    {
     "name": "stdout",
     "output_type": "stream",
     "text": [
      "Schedule(station=Plus, date=2022-01-31, shows=88)\n"
     ]
    }
   ],
   "source": [
    "schedule: Schedule = client.get_day_schedule(date = dt.date(2022, 1, 31))\n",
    "\n",
    "print(schedule)"
   ]
  },
  {
   "cell_type": "markdown",
   "metadata": {},
   "source": [
    "## __Get schedule for a given week and given station__"
   ]
  },
  {
   "cell_type": "code",
   "execution_count": 6,
   "metadata": {},
   "outputs": [
    {
     "name": "stdout",
     "output_type": "stream",
     "text": [
      "Schedule(station=Plus, date=2022-01-31, shows=88)\n",
      "Schedule(station=Plus, date=2022-02-06, shows=88)\n"
     ]
    }
   ],
   "source": [
    "schedules: tuple[Schedule] = client.get_week_schedule(dt.date(2022, 1, 31))\n",
    "\n",
    "print(schedules[0])\n",
    "print(schedules[-1])"
   ]
  },
  {
   "cell_type": "markdown",
   "metadata": {},
   "source": [
    "## __Get schedule for a given month and given station__"
   ]
  },
  {
   "cell_type": "code",
   "execution_count": 7,
   "metadata": {},
   "outputs": [
    {
     "name": "stdout",
     "output_type": "stream",
     "text": [
      "Schedule(station=Plus, date=2022-01-01, shows=11)\n",
      "Schedule(station=Plus, date=2022-01-31, shows=12)\n"
     ]
    }
   ],
   "source": [
    "schedules = client.get_month_schedule(date = dt.date(2022, 1, 1), time=(dt.time.min, dt.time(3, 0, 0)))\n",
    "\n",
    "print(schedules[0])\n",
    "print(schedules[-1])"
   ]
  },
  {
   "cell_type": "code",
   "execution_count": 8,
   "metadata": {},
   "outputs": [
    {
     "name": "stdout",
     "output_type": "stream",
     "text": [
      "Schedule(station=Plus, date=2022-01-01, shows=11)\n",
      "Schedule(station=Plus, date=2022-01-02, shows=10)\n",
      "Schedule(station=Plus, date=2022-01-03, shows=12)\n"
     ]
    }
   ],
   "source": [
    "for schedule in schedules[:3]:\n",
    "    print(schedule)"
   ]
  },
  {
   "cell_type": "markdown",
   "metadata": {},
   "source": []
  }
 ],
 "metadata": {
  "interpreter": {
   "hash": "14f7de34c4d978f166e3dd3e61de5028fcd6c1ab50b03b967547b1a07a67a66b"
  },
  "kernelspec": {
   "display_name": "Python 3.10.0 64-bit ('.venv': venv)",
   "name": "python3"
  },
  "language_info": {
   "codemirror_mode": {
    "name": "ipython",
    "version": 3
   },
   "file_extension": ".py",
   "mimetype": "text/x-python",
   "name": "python",
   "nbconvert_exporter": "python",
   "pygments_lexer": "ipython3",
   "version": "3.10.0"
  },
  "orig_nbformat": 4
 },
 "nbformat": 4,
 "nbformat_minor": 2
}
