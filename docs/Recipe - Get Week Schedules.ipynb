{
 "cells": [
  {
   "cell_type": "markdown",
   "metadata": {},
   "source": [
    "# Recipe: Get schedule for a given week and given station"
   ]
  },
  {
   "cell_type": "code",
   "execution_count": 1,
   "metadata": {},
   "outputs": [],
   "source": [
    "%load_ext autoreload\n",
    "%autoreload 2"
   ]
  },
  {
   "cell_type": "code",
   "execution_count": 2,
   "metadata": {},
   "outputs": [],
   "source": [
    "import datetime as dt\n",
    "\n",
    "import pandas as pd\n",
    "\n",
    "from cro.schedule import Client, Schedule"
   ]
  },
  {
   "cell_type": "code",
   "execution_count": 3,
   "metadata": {},
   "outputs": [],
   "source": [
    "client = Client() # Set the station id (sid) later.  \n",
    "\n",
    "date: str = '2022-03-28'"
   ]
  },
  {
   "cell_type": "code",
   "execution_count": 4,
   "metadata": {},
   "outputs": [],
   "source": [
    "data: list[Schedule] = []\n",
    "for sid in ('plus', 'radiozurnal'):\n",
    "    client.station = sid\n",
    "    schedules = client.get_week_schedule(date)\n",
    "    \n",
    "    for schedule in schedules:\n",
    "        data.append(schedule.to_table())\n",
    "        # Write single dataset to Excel.\n",
    "        # with pd.ExcelWriter(f\"../data/sheet/Schedule_{schedule.station.name}_W{schedule.date}.xlsx\") as writer:\n",
    "        #     data[-1].to_excel(writer)  "
   ]
  },
  {
   "cell_type": "code",
   "execution_count": 5,
   "metadata": {},
   "outputs": [],
   "source": [
    "      \n",
    "# Write concatenated datasets to Excel.\n",
    "with pd.ExcelWriter(f\"../data/sheet/Schedule_W{date}.xlsx\") as writer:\n",
    "    pd.concat(data).to_excel(writer)"
   ]
  },
  {
   "cell_type": "code",
   "execution_count": null,
   "metadata": {},
   "outputs": [],
   "source": []
  }
 ],
 "metadata": {
  "interpreter": {
   "hash": "ed91413bac3196b0e19f22017d6da9bd06704e9c7dc84263540fb3886e4dd98a"
  },
  "kernelspec": {
   "display_name": "Python 3.10.0 64-bit ('.venv': venv)",
   "name": "python3"
  },
  "language_info": {
   "codemirror_mode": {
    "name": "ipython",
    "version": 3
   },
   "file_extension": ".py",
   "mimetype": "text/x-python",
   "name": "python",
   "nbconvert_exporter": "python",
   "pygments_lexer": "ipython3",
   "version": "3.10.0"
  },
  "orig_nbformat": 4
 },
 "nbformat": 4,
 "nbformat_minor": 2
}
